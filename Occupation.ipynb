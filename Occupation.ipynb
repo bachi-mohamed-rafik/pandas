{
  "nbformat": 4,
  "nbformat_minor": 0,
  "metadata": {
    "colab": {
      "name": "Occupation.ipynb",
      "provenance": [],
      "collapsed_sections": [],
      "authorship_tag": "ABX9TyOZdsUjR+tDf1RBQOU0N8AB",
      "include_colab_link": true
    },
    "kernelspec": {
      "name": "python3",
      "display_name": "Python 3"
    }
  },
  "cells": [
    {
      "cell_type": "markdown",
      "metadata": {
        "id": "view-in-github",
        "colab_type": "text"
      },
      "source": [
        "<a href=\"https://colab.research.google.com/github/bachi-mohamed-rafik/pandas/blob/main/Occupation.ipynb\" target=\"_parent\"><img src=\"https://colab.research.google.com/assets/colab-badge.svg\" alt=\"Open In Colab\"/></a>"
      ]
    },
    {
      "cell_type": "markdown",
      "metadata": {
        "id": "z_HSIWiZnryf"
      },
      "source": [
        "\r\n",
        "#PAndas\r\n",
        "#Occupation"
      ]
    },
    {
      "cell_type": "code",
      "metadata": {
        "id": "HOsJg8Qdnq4g"
      },
      "source": [
        "# Import the necessary libraries\r\n",
        "import pandas as pd\r\n",
        "import requests\r\n"
      ],
      "execution_count": 1,
      "outputs": []
    },
    {
      "cell_type": "code",
      "metadata": {
        "colab": {
          "base_uri": "https://localhost:8080/"
        },
        "id": "FX-Mg9Ggn3HS",
        "outputId": "70ba7435-a82b-412c-dda5-4a45fae7a991"
      },
      "source": [
        "# Import the dataset from this address.¶\r\n",
        "# Assign it to a variable called chipo\r\n",
        "url=\"https://raw.githubusercontent.com/justmarkham/DAT8/master/data/u.user\"\r\n",
        "users=pd.read_csv(url ,sep='|', index_col='user_id')\r\n",
        "\r\n",
        "#Step 4. See the first 25 entries\r\n",
        "print(\"See the first 25 entries :\")\r\n",
        "print(users.head(25))\r\n",
        "\r\n",
        "# Step 5. See the last 10 entries\r\n",
        "print(\"Step 5. See the last 10 entries : \")\r\n",
        "print(users.tail(10))"
      ],
      "execution_count": 2,
      "outputs": [
        {
          "output_type": "stream",
          "text": [
            "See the first 25 entries :\n",
            "         age gender     occupation zip_code\n",
            "user_id                                    \n",
            "1         24      M     technician    85711\n",
            "2         53      F          other    94043\n",
            "3         23      M         writer    32067\n",
            "4         24      M     technician    43537\n",
            "5         33      F          other    15213\n",
            "6         42      M      executive    98101\n",
            "7         57      M  administrator    91344\n",
            "8         36      M  administrator    05201\n",
            "9         29      M        student    01002\n",
            "10        53      M         lawyer    90703\n",
            "11        39      F          other    30329\n",
            "12        28      F          other    06405\n",
            "13        47      M       educator    29206\n",
            "14        45      M      scientist    55106\n",
            "15        49      F       educator    97301\n",
            "16        21      M  entertainment    10309\n",
            "17        30      M     programmer    06355\n",
            "18        35      F          other    37212\n",
            "19        40      M      librarian    02138\n",
            "20        42      F      homemaker    95660\n",
            "21        26      M         writer    30068\n",
            "22        25      M         writer    40206\n",
            "23        30      F         artist    48197\n",
            "24        21      F         artist    94533\n",
            "25        39      M       engineer    55107\n",
            "Step 5. See the last 10 entries : \n",
            "         age gender     occupation zip_code\n",
            "user_id                                    \n",
            "934       61      M       engineer    22902\n",
            "935       42      M         doctor    66221\n",
            "936       24      M          other    32789\n",
            "937       48      M       educator    98072\n",
            "938       38      F     technician    55038\n",
            "939       26      F        student    33319\n",
            "940       32      M  administrator    02215\n",
            "941       20      M        student    97229\n",
            "942       48      F      librarian    78209\n",
            "943       22      M        student    77841\n"
          ],
          "name": "stdout"
        }
      ]
    },
    {
      "cell_type": "code",
      "metadata": {
        "colab": {
          "base_uri": "https://localhost:8080/"
        },
        "id": "pB7F04pEn-ny",
        "outputId": "a47033ab-b2c2-47ab-a3ce-bca99599f63c"
      },
      "source": [
        "# Step 6. What is the number of observations in the dataset\r\n",
        "print(\"What is the number of observations in the dataset :\")\r\n",
        "print(users.shape[0])\r\n",
        "\r\n",
        "# Step 7. What is the number of columns in the dataset\r\n",
        "print(\" What is the number of columns in the dataset\")\r\n",
        "print(users.shape[1])\r\n",
        "\r\n",
        "# Step 8. Print the name of all the columns.\r\n",
        "print(\"The name of all the columns.\")\r\n",
        "print(users.columns)\r\n"
      ],
      "execution_count": 3,
      "outputs": [
        {
          "output_type": "stream",
          "text": [
            "What is the number of observations in the dataset :\n",
            "943\n",
            " What is the number of columns in the dataset\n",
            "4\n",
            "The name of all the columns.\n",
            "Index(['age', 'gender', 'occupation', 'zip_code'], dtype='object')\n"
          ],
          "name": "stdout"
        }
      ]
    },
    {
      "cell_type": "code",
      "metadata": {
        "colab": {
          "base_uri": "https://localhost:8080/"
        },
        "id": "iJyI0LNrpiQL",
        "outputId": "ba622d50-4ac5-4579-8fe0-d4aedd03bf43"
      },
      "source": [
        "#Step 9. How is the dataset indexed\r\n",
        "print(\"How is the dataset indexed : \")\r\n",
        "print(users.index)\r\n",
        "\r\n",
        "#Step 10. What is the data type of each column?\r\n",
        "print(\"The data type of each column\")\r\n",
        "print(users.dtypes)\r\n"
      ],
      "execution_count": 4,
      "outputs": [
        {
          "output_type": "stream",
          "text": [
            "How is the dataset indexed : \n",
            "Int64Index([  1,   2,   3,   4,   5,   6,   7,   8,   9,  10,\n",
            "            ...\n",
            "            934, 935, 936, 937, 938, 939, 940, 941, 942, 943],\n",
            "           dtype='int64', name='user_id', length=943)\n",
            "The data type of each column\n",
            "age            int64\n",
            "gender        object\n",
            "occupation    object\n",
            "zip_code      object\n",
            "dtype: object\n"
          ],
          "name": "stdout"
        }
      ]
    },
    {
      "cell_type": "code",
      "metadata": {
        "colab": {
          "base_uri": "https://localhost:8080/"
        },
        "id": "hD7OhQSAppEg",
        "outputId": "c14bd44f-ce29-4e45-f41b-b763c563cab5"
      },
      "source": [
        "#Step 11. Print only the occupation column\r\n",
        "print(\"Only the occupation column\")\r\n",
        "print(users.occupation)\r\n",
        "\r\n",
        "#Step 12. How many different occupations are in this dataset\r\n",
        "print(\"Different occupations are in this dataset\")\r\n",
        "occupations=users.occupation.value_counts()\r\n",
        "print(len(occupations))\r\n",
        "\r\n",
        "# Step 13. What is the most frequent occupation?\r\n",
        "print(\"The most frequent occupation :\")\r\n",
        "print(occupations.head(1))"
      ],
      "execution_count": 5,
      "outputs": [
        {
          "output_type": "stream",
          "text": [
            "Only the occupation column\n",
            "user_id\n",
            "1         technician\n",
            "2              other\n",
            "3             writer\n",
            "4         technician\n",
            "5              other\n",
            "           ...      \n",
            "939          student\n",
            "940    administrator\n",
            "941          student\n",
            "942        librarian\n",
            "943          student\n",
            "Name: occupation, Length: 943, dtype: object\n",
            "Different occupations are in this dataset\n",
            "21\n",
            "The most frequent occupation :\n",
            "student    196\n",
            "Name: occupation, dtype: int64\n"
          ],
          "name": "stdout"
        }
      ]
    },
    {
      "cell_type": "code",
      "metadata": {
        "colab": {
          "base_uri": "https://localhost:8080/"
        },
        "id": "7qmMwv8ppr_j",
        "outputId": "c03bebef-5f02-4500-d4c0-c189aa35b0c8"
      },
      "source": [
        "# Step 14. Summarize the DataFrame.\r\n",
        "print(\"Summarize the DataFrame : \")\r\n",
        "print(users.describe())\r\n",
        "\r\n",
        "#Step 15. Summarize all the columns\r\n",
        "print(\"Summarize all the columns\")\r\n",
        "print(users.describe(include=\"all\"))\r\n",
        "\r\n",
        "#Step 16. Summarize only the occupation column\r\n",
        "print(\"Summarize only the occupation column :\")\r\n",
        "print(users.occupation.describe())"
      ],
      "execution_count": 6,
      "outputs": [
        {
          "output_type": "stream",
          "text": [
            "Summarize the DataFrame : \n",
            "              age\n",
            "count  943.000000\n",
            "mean    34.051962\n",
            "std     12.192740\n",
            "min      7.000000\n",
            "25%     25.000000\n",
            "50%     31.000000\n",
            "75%     43.000000\n",
            "max     73.000000\n",
            "Summarize all the columns\n",
            "               age gender occupation zip_code\n",
            "count   943.000000    943        943      943\n",
            "unique         NaN      2         21      795\n",
            "top            NaN      M    student    55414\n",
            "freq           NaN    670        196        9\n",
            "mean     34.051962    NaN        NaN      NaN\n",
            "std      12.192740    NaN        NaN      NaN\n",
            "min       7.000000    NaN        NaN      NaN\n",
            "25%      25.000000    NaN        NaN      NaN\n",
            "50%      31.000000    NaN        NaN      NaN\n",
            "75%      43.000000    NaN        NaN      NaN\n",
            "max      73.000000    NaN        NaN      NaN\n",
            "Summarize only the occupation column :\n",
            "count         943\n",
            "unique         21\n",
            "top       student\n",
            "freq          196\n",
            "Name: occupation, dtype: object\n"
          ],
          "name": "stdout"
        }
      ]
    },
    {
      "cell_type": "code",
      "metadata": {
        "colab": {
          "base_uri": "https://localhost:8080/"
        },
        "id": "tPoFrGiApxw-",
        "outputId": "e462cb34-791d-41ad-93b1-2efb50272ba7"
      },
      "source": [
        "# Step 17. What is the mean age of users?\r\n",
        "print(\"Mean age of users :\")\r\n",
        "print(users.age.mean())\r\n",
        "\r\n",
        "#Step 18. What is the age with least occurrence?\r\n",
        "print(\"The age with least occurrence :\")\r\n",
        "print(users.age.value_counts().tail())\r\n"
      ],
      "execution_count": 7,
      "outputs": [
        {
          "output_type": "stream",
          "text": [
            "Mean age of users :\n",
            "34.05196182396607\n",
            "The age with least occurrence :\n",
            "11    1\n",
            "10    1\n",
            "73    1\n",
            "66    1\n",
            "7     1\n",
            "Name: age, dtype: int64\n"
          ],
          "name": "stdout"
        }
      ]
    }
  ]
}