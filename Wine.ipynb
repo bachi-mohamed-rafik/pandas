{
  "nbformat": 4,
  "nbformat_minor": 0,
  "metadata": {
    "colab": {
      "name": "Wine.ipynb",
      "provenance": [],
      "collapsed_sections": [],
      "authorship_tag": "ABX9TyN0H4S2VhRNAYP6xw9aSdSC",
      "include_colab_link": true
    },
    "kernelspec": {
      "name": "python3",
      "display_name": "Python 3"
    }
  },
  "cells": [
    {
      "cell_type": "markdown",
      "metadata": {
        "id": "view-in-github",
        "colab_type": "text"
      },
      "source": [
        "<a href=\"https://colab.research.google.com/github/bachi-mohamed-rafik/pandas/blob/main/Wine.ipynb\" target=\"_parent\"><img src=\"https://colab.research.google.com/assets/colab-badge.svg\" alt=\"Open In Colab\"/></a>"
      ]
    },
    {
      "cell_type": "markdown",
      "metadata": {
        "id": "kDI3Q539XcuC"
      },
      "source": [
        "#Wine"
      ]
    },
    {
      "cell_type": "code",
      "metadata": {
        "colab": {
          "base_uri": "https://localhost:8080/"
        },
        "id": "fmpt3BRiXbre",
        "outputId": "3f6bf7b8-9406-43d7-8e99-64535441a4c6"
      },
      "source": [
        "import pandas as pd\r\n",
        "import numpy as np\r\n",
        "\r\n",
        "url = 'https://archive.ics.uci.edu/ml/machine-learning-databases/wine/wine.data'\r\n",
        "wine = pd.read_csv(url)\r\n",
        "\r\n",
        "print(wine.head())"
      ],
      "execution_count": 1,
      "outputs": [
        {
          "output_type": "stream",
          "text": [
            "   1  14.23  1.71  2.43  15.6  127  ...   .28  2.29  5.64  1.04  3.92  1065\n",
            "0  1  13.20  1.78  2.14  11.2  100  ...  0.26  1.28  4.38  1.05  3.40  1050\n",
            "1  1  13.16  2.36  2.67  18.6  101  ...  0.30  2.81  5.68  1.03  3.17  1185\n",
            "2  1  14.37  1.95  2.50  16.8  113  ...  0.24  2.18  7.80  0.86  3.45  1480\n",
            "3  1  13.24  2.59  2.87  21.0  118  ...  0.39  1.82  4.32  1.04  2.93   735\n",
            "4  1  14.20  1.76  2.45  15.2  112  ...  0.34  1.97  6.75  1.05  2.85  1450\n",
            "\n",
            "[5 rows x 14 columns]\n"
          ],
          "name": "stdout"
        }
      ]
    },
    {
      "cell_type": "code",
      "metadata": {
        "colab": {
          "base_uri": "https://localhost:8080/"
        },
        "id": "jgk_0hGvXh_a",
        "outputId": "f8286837-b233-4d02-d2ae-a5ffc475944a"
      },
      "source": [
        "# Delete the first, fourth, seventh, nineth, eleventh, thirteenth and fourteenth columns\r\n",
        "print(\"Delete the first, fourth, seventh, nineth, eleventh, thirteenth and fourteenth columns:\")\r\n",
        "col=[0,3,6,8,11,12,13]\r\n",
        "wine.drop(wine.columns[col],axis=1,inplace= True)\r\n",
        "print(wine.columns)"
      ],
      "execution_count": 2,
      "outputs": [
        {
          "output_type": "stream",
          "text": [
            "Delete the first, fourth, seventh, nineth, eleventh, thirteenth and fourteenth columns:\n",
            "Index(['14.23', '1.71', '15.6', '127', '3.06', '2.29', '5.64'], dtype='object')\n"
          ],
          "name": "stdout"
        }
      ]
    },
    {
      "cell_type": "code",
      "metadata": {
        "colab": {
          "base_uri": "https://localhost:8080/"
        },
        "id": "VuU49gJ0XlDF",
        "outputId": "5e750a92-6968-4614-d2b7-f79e23622a96"
      },
      "source": [
        "# Assign the columns as below:¶\r\n",
        "\r\n",
        "print(\"Assign the columns :\")\r\n",
        "wine.columns=['alcohol','malic_acid','alcalinity_of_ash','magnesium','flavanoids','proanthocyanins','hue']\r\n",
        "print(wine)"
      ],
      "execution_count": 3,
      "outputs": [
        {
          "output_type": "stream",
          "text": [
            "Assign the columns :\n",
            "     alcohol  malic_acid  alcalinity_of_ash  ...  flavanoids  proanthocyanins    hue\n",
            "0      13.20        1.78               11.2  ...        2.76             1.28   4.38\n",
            "1      13.16        2.36               18.6  ...        3.24             2.81   5.68\n",
            "2      14.37        1.95               16.8  ...        3.49             2.18   7.80\n",
            "3      13.24        2.59               21.0  ...        2.69             1.82   4.32\n",
            "4      14.20        1.76               15.2  ...        3.39             1.97   6.75\n",
            "..       ...         ...                ...  ...         ...              ...    ...\n",
            "172    13.71        5.65               20.5  ...        0.61             1.06   7.70\n",
            "173    13.40        3.91               23.0  ...        0.75             1.41   7.30\n",
            "174    13.27        4.28               20.0  ...        0.69             1.35  10.20\n",
            "175    13.17        2.59               20.0  ...        0.68             1.46   9.30\n",
            "176    14.13        4.10               24.5  ...        0.76             1.35   9.20\n",
            "\n",
            "[177 rows x 7 columns]\n"
          ],
          "name": "stdout"
        }
      ]
    },
    {
      "cell_type": "code",
      "metadata": {
        "colab": {
          "base_uri": "https://localhost:8080/"
        },
        "id": "jkO1wAq6Xn6E",
        "outputId": "e8a773eb-d065-46b5-a7e6-5e8ae71c51bd"
      },
      "source": [
        "# Set the values of the first 3 rows from alcohol as NaN\r\n",
        "print(\"Set the values of the first 3 rows from alcohol as NaN :\")\r\n",
        "wine.iloc[0:3,:]=np.nan\r\n",
        "print(wine)"
      ],
      "execution_count": 4,
      "outputs": [
        {
          "output_type": "stream",
          "text": [
            "Set the values of the first 3 rows from alcohol as NaN :\n",
            "     alcohol  malic_acid  alcalinity_of_ash  ...  flavanoids  proanthocyanins    hue\n",
            "0        NaN         NaN                NaN  ...         NaN              NaN    NaN\n",
            "1        NaN         NaN                NaN  ...         NaN              NaN    NaN\n",
            "2        NaN         NaN                NaN  ...         NaN              NaN    NaN\n",
            "3      13.24        2.59               21.0  ...        2.69             1.82   4.32\n",
            "4      14.20        1.76               15.2  ...        3.39             1.97   6.75\n",
            "..       ...         ...                ...  ...         ...              ...    ...\n",
            "172    13.71        5.65               20.5  ...        0.61             1.06   7.70\n",
            "173    13.40        3.91               23.0  ...        0.75             1.41   7.30\n",
            "174    13.27        4.28               20.0  ...        0.69             1.35  10.20\n",
            "175    13.17        2.59               20.0  ...        0.68             1.46   9.30\n",
            "176    14.13        4.10               24.5  ...        0.76             1.35   9.20\n",
            "\n",
            "[177 rows x 7 columns]\n"
          ],
          "name": "stdout"
        }
      ]
    },
    {
      "cell_type": "code",
      "metadata": {
        "colab": {
          "base_uri": "https://localhost:8080/"
        },
        "id": "yqYWZ_MQXpKx",
        "outputId": "a8957a53-8fb9-4235-95e8-d5c8f528aee7"
      },
      "source": [
        "# Now set the value of the rows 3 and 4 of magnesium as NaN\r\n",
        "print(\"Now set the value of the rows 3 and 4 of magnesium as NaN:\")\r\n",
        "wine.iloc[2:3,3]=np.nan\r\n",
        "print(wine.magnesium)"
      ],
      "execution_count": 5,
      "outputs": [
        {
          "output_type": "stream",
          "text": [
            "Now set the value of the rows 3 and 4 of magnesium as NaN:\n",
            "0        NaN\n",
            "1        NaN\n",
            "2        NaN\n",
            "3      118.0\n",
            "4      112.0\n",
            "       ...  \n",
            "172     95.0\n",
            "173    102.0\n",
            "174    120.0\n",
            "175    120.0\n",
            "176     96.0\n",
            "Name: magnesium, Length: 177, dtype: float64\n"
          ],
          "name": "stdout"
        }
      ]
    },
    {
      "cell_type": "code",
      "metadata": {
        "colab": {
          "base_uri": "https://localhost:8080/"
        },
        "id": "j7tYL_-fXrbh",
        "outputId": "5c448807-22cb-4150-acdc-ddfd06973f72"
      },
      "source": [
        "# Fill the value of NaN with the number 10 in alcohol and 100 in magnesium\r\n",
        "print(\"Fill the value of NaN with the number 10 in alcohol and 100 in magnesium:\")\r\n",
        "wine[\"alcohol\"].fillna(10, inplace = True) \r\n",
        "wine[\"magnesium\"].fillna(100, inplace = True) \r\n",
        "print(wine)"
      ],
      "execution_count": 6,
      "outputs": [
        {
          "output_type": "stream",
          "text": [
            "Fill the value of NaN with the number 10 in alcohol and 100 in magnesium:\n",
            "     alcohol  malic_acid  alcalinity_of_ash  ...  flavanoids  proanthocyanins    hue\n",
            "0      10.00         NaN                NaN  ...         NaN              NaN    NaN\n",
            "1      10.00         NaN                NaN  ...         NaN              NaN    NaN\n",
            "2      10.00         NaN                NaN  ...         NaN              NaN    NaN\n",
            "3      13.24        2.59               21.0  ...        2.69             1.82   4.32\n",
            "4      14.20        1.76               15.2  ...        3.39             1.97   6.75\n",
            "..       ...         ...                ...  ...         ...              ...    ...\n",
            "172    13.71        5.65               20.5  ...        0.61             1.06   7.70\n",
            "173    13.40        3.91               23.0  ...        0.75             1.41   7.30\n",
            "174    13.27        4.28               20.0  ...        0.69             1.35  10.20\n",
            "175    13.17        2.59               20.0  ...        0.68             1.46   9.30\n",
            "176    14.13        4.10               24.5  ...        0.76             1.35   9.20\n",
            "\n",
            "[177 rows x 7 columns]\n"
          ],
          "name": "stdout"
        }
      ]
    },
    {
      "cell_type": "code",
      "metadata": {
        "colab": {
          "base_uri": "https://localhost:8080/"
        },
        "id": "Yn8zNiw2XtcU",
        "outputId": "fb9dd080-b382-45d1-b000-422d36c9d8ce"
      },
      "source": [
        "# Count the number of missing values\r\n",
        "print(\"Count the number of missing values:\")\r\n",
        "\r\n",
        "print(wine.isnull().sum().count())"
      ],
      "execution_count": 7,
      "outputs": [
        {
          "output_type": "stream",
          "text": [
            "Count the number of missing values:\n",
            "7\n"
          ],
          "name": "stdout"
        }
      ]
    },
    {
      "cell_type": "code",
      "metadata": {
        "colab": {
          "base_uri": "https://localhost:8080/"
        },
        "id": "-nwa4nfEXvhB",
        "outputId": "474b4e15-5405-4a11-bb7a-c1492c068792"
      },
      "source": [
        "# Create an array of 10 random numbers up until 10\r\n",
        "print(\"Create an array of 10 random numbers up until 10:\")\r\n",
        "\r\n",
        "random=np.random.randint(10,size=10)\r\n",
        "print(random)"
      ],
      "execution_count": 8,
      "outputs": [
        {
          "output_type": "stream",
          "text": [
            "Create an array of 10 random numbers up until 10:\n",
            "[2 4 1 8 5 3 3 0 5 6]\n"
          ],
          "name": "stdout"
        }
      ]
    },
    {
      "cell_type": "code",
      "metadata": {
        "colab": {
          "base_uri": "https://localhost:8080/"
        },
        "id": "0Yh8OA3kX0O2",
        "outputId": "5a91ad8c-47d7-490f-eeca-8496470f8cb6"
      },
      "source": [
        "# Use random numbers you generated as an index and assign NaN value to each of cell.\r\n",
        "print(\"Use random numbers you generated as an index and assign NaN value to each of cell:\")\r\n",
        "wine.alcohol[random] = np.nan\r\n",
        "print(wine.head(10))"
      ],
      "execution_count": 9,
      "outputs": [
        {
          "output_type": "stream",
          "text": [
            "Use random numbers you generated as an index and assign NaN value to each of cell:\n",
            "   alcohol  malic_acid  alcalinity_of_ash  ...  flavanoids  proanthocyanins   hue\n",
            "0      NaN         NaN                NaN  ...         NaN              NaN   NaN\n",
            "1      NaN         NaN                NaN  ...         NaN              NaN   NaN\n",
            "2      NaN         NaN                NaN  ...         NaN              NaN   NaN\n",
            "3      NaN        2.59               21.0  ...        2.69             1.82  4.32\n",
            "4      NaN        1.76               15.2  ...        3.39             1.97  6.75\n",
            "5      NaN        1.87               14.6  ...        2.52             1.98  5.25\n",
            "6      NaN        2.15               17.6  ...        2.51             1.25  5.05\n",
            "7    14.83        1.64               14.0  ...        2.98             1.98  5.20\n",
            "8      NaN        1.35               16.0  ...        3.15             1.85  7.22\n",
            "9    14.10        2.16               18.0  ...        3.32             2.38  5.75\n",
            "\n",
            "[10 rows x 7 columns]\n"
          ],
          "name": "stdout"
        }
      ]
    },
    {
      "cell_type": "code",
      "metadata": {
        "colab": {
          "base_uri": "https://localhost:8080/"
        },
        "id": "XTovdVZvX2wx",
        "outputId": "942cc87e-ea87-4922-a5ed-b366c4e274d1"
      },
      "source": [
        "# How many missing values do we have?\r\n",
        "print(\"How many missing values do we have:\")\r\n",
        "print(wine.isnull().sum().count())"
      ],
      "execution_count": 10,
      "outputs": [
        {
          "output_type": "stream",
          "text": [
            "How many missing values do we have:\n",
            "7\n"
          ],
          "name": "stdout"
        }
      ]
    },
    {
      "cell_type": "code",
      "metadata": {
        "colab": {
          "base_uri": "https://localhost:8080/"
        },
        "id": "Sg6LnUxDX5Nb",
        "outputId": "1908bf28-cd25-4e3b-ce90-6870df57af9e"
      },
      "source": [
        "# Delete the rows that contain missing values\r\n",
        "print(\"Delete the rows that contain missing values:\")\r\n",
        "wine.dropna(axis = 0, how = \"any\")\r\n",
        "print(wine)"
      ],
      "execution_count": 11,
      "outputs": [
        {
          "output_type": "stream",
          "text": [
            "Delete the rows that contain missing values:\n",
            "     alcohol  malic_acid  alcalinity_of_ash  ...  flavanoids  proanthocyanins    hue\n",
            "0        NaN         NaN                NaN  ...         NaN              NaN    NaN\n",
            "1        NaN         NaN                NaN  ...         NaN              NaN    NaN\n",
            "2        NaN         NaN                NaN  ...         NaN              NaN    NaN\n",
            "3        NaN        2.59               21.0  ...        2.69             1.82   4.32\n",
            "4        NaN        1.76               15.2  ...        3.39             1.97   6.75\n",
            "..       ...         ...                ...  ...         ...              ...    ...\n",
            "172    13.71        5.65               20.5  ...        0.61             1.06   7.70\n",
            "173    13.40        3.91               23.0  ...        0.75             1.41   7.30\n",
            "174    13.27        4.28               20.0  ...        0.69             1.35  10.20\n",
            "175    13.17        2.59               20.0  ...        0.68             1.46   9.30\n",
            "176    14.13        4.10               24.5  ...        0.76             1.35   9.20\n",
            "\n",
            "[177 rows x 7 columns]\n"
          ],
          "name": "stdout"
        }
      ]
    },
    {
      "cell_type": "code",
      "metadata": {
        "colab": {
          "base_uri": "https://localhost:8080/"
        },
        "id": "WHIErb5BX70t",
        "outputId": "40580158-a37f-4613-ba7d-13cc4fe4daf1"
      },
      "source": [
        "# Print only the non-null values in alcohol\r\n",
        "print(\"Print only the non-null values in alcohol:\")\r\n",
        "print(wine.alcohol.notnull())"
      ],
      "execution_count": 12,
      "outputs": [
        {
          "output_type": "stream",
          "text": [
            "Print only the non-null values in alcohol:\n",
            "0      False\n",
            "1      False\n",
            "2      False\n",
            "3      False\n",
            "4      False\n",
            "       ...  \n",
            "172     True\n",
            "173     True\n",
            "174     True\n",
            "175     True\n",
            "176     True\n",
            "Name: alcohol, Length: 177, dtype: bool\n"
          ],
          "name": "stdout"
        }
      ]
    },
    {
      "cell_type": "code",
      "metadata": {
        "colab": {
          "base_uri": "https://localhost:8080/"
        },
        "id": "XENS0_xHX-gZ",
        "outputId": "99f164b5-ad9c-4aa7-d4c9-5616c749d443"
      },
      "source": [
        "# Reset the index, so it starts with 0 again\r\n",
        "print(\"Reset the index, so it starts with 0 again:\")\r\n",
        "wine=wine.reset_index(0)\r\n",
        "print(wine)"
      ],
      "execution_count": 13,
      "outputs": [
        {
          "output_type": "stream",
          "text": [
            "Reset the index, so it starts with 0 again:\n",
            "     index  alcohol  malic_acid  ...  flavanoids  proanthocyanins    hue\n",
            "0        0      NaN         NaN  ...         NaN              NaN    NaN\n",
            "1        1      NaN         NaN  ...         NaN              NaN    NaN\n",
            "2        2      NaN         NaN  ...         NaN              NaN    NaN\n",
            "3        3      NaN        2.59  ...        2.69             1.82   4.32\n",
            "4        4      NaN        1.76  ...        3.39             1.97   6.75\n",
            "..     ...      ...         ...  ...         ...              ...    ...\n",
            "172    172    13.71        5.65  ...        0.61             1.06   7.70\n",
            "173    173    13.40        3.91  ...        0.75             1.41   7.30\n",
            "174    174    13.27        4.28  ...        0.69             1.35  10.20\n",
            "175    175    13.17        2.59  ...        0.68             1.46   9.30\n",
            "176    176    14.13        4.10  ...        0.76             1.35   9.20\n",
            "\n",
            "[177 rows x 8 columns]\n"
          ],
          "name": "stdout"
        }
      ]
    }
  ]
}