{
  "nbformat": 4,
  "nbformat_minor": 0,
  "metadata": {
    "colab": {
      "name": "Fictional Army.ipynb",
      "provenance": [],
      "collapsed_sections": [],
      "authorship_tag": "ABX9TyN1B6DjWzCXM1JXMdmf/KNv",
      "include_colab_link": true
    },
    "kernelspec": {
      "name": "python3",
      "display_name": "Python 3"
    }
  },
  "cells": [
    {
      "cell_type": "markdown",
      "metadata": {
        "id": "view-in-github",
        "colab_type": "text"
      },
      "source": [
        "<a href=\"https://colab.research.google.com/github/bachi-mohamed-rafik/pandas/blob/main/Fictional_Army.ipynb\" target=\"_parent\"><img src=\"https://colab.research.google.com/assets/colab-badge.svg\" alt=\"Open In Colab\"/></a>"
      ]
    },
    {
      "cell_type": "markdown",
      "metadata": {
        "id": "P-LTVBskXUK0"
      },
      "source": [
        "#Fictional Army"
      ]
    },
    {
      "cell_type": "code",
      "metadata": {
        "id": "TrqZRGI6XQWZ",
        "colab": {
          "base_uri": "https://localhost:8080/"
        },
        "outputId": "dde1a97a-bdf4-4b09-f805-51b0ee7162b2"
      },
      "source": [
        "import pandas as pd\r\n",
        "# Create an example dataframe about a fictional army\r\n",
        "raw_data = {'regiment': ['Nighthawks', 'Nighthawks', 'Nighthawks', 'Nighthawks', 'Dragoons', 'Dragoons', 'Dragoons', 'Dragoons', 'Scouts', 'Scouts', 'Scouts', 'Scouts'],\r\n",
        "            'company': ['1st', '1st', '2nd', '2nd', '1st', '1st', '2nd', '2nd','1st', '1st', '2nd', '2nd'],\r\n",
        "            'deaths': [523, 52, 25, 616, 43, 234, 523, 62, 62, 73, 37, 35],\r\n",
        "            'battles': [5, 42, 2, 2, 4, 7, 8, 3, 4, 7, 8, 9],\r\n",
        "            'size': [1045, 957, 1099, 1400, 1592, 1006, 987, 849, 973, 1005, 1099, 1523],\r\n",
        "            'veterans': [1, 5, 62, 26, 73, 37, 949, 48, 48, 435, 63, 345],\r\n",
        "            'readiness': [1, 2, 3, 3, 2, 1, 2, 3, 2, 1, 2, 3],\r\n",
        "            'armored': [1, 0, 1, 1, 0, 1, 0, 1, 0, 0, 1, 1],\r\n",
        "            'deserters': [4, 24, 31, 2, 3, 4, 24, 31, 2, 3, 2, 3],\r\n",
        "            'origin': ['Arizona', 'California', 'Texas', 'Florida', 'Maine', 'Iowa', 'Alaska', 'Washington', 'Oregon', 'Wyoming', 'Louisana', 'Georgia']}\r\n",
        "\r\n",
        "\r\n",
        "army=pd.DataFrame(raw_data, columns = ['regiment','company','deaths','battles','size','veterans','readiness','armored','deserters','origin'])\r\n",
        "\r\n",
        "army.set_index('origin')\r\n",
        "print(army)"
      ],
      "execution_count": 1,
      "outputs": [
        {
          "output_type": "stream",
          "text": [
            "      regiment company  deaths  ...  armored  deserters      origin\n",
            "0   Nighthawks     1st     523  ...        1          4     Arizona\n",
            "1   Nighthawks     1st      52  ...        0         24  California\n",
            "2   Nighthawks     2nd      25  ...        1         31       Texas\n",
            "3   Nighthawks     2nd     616  ...        1          2     Florida\n",
            "4     Dragoons     1st      43  ...        0          3       Maine\n",
            "5     Dragoons     1st     234  ...        1          4        Iowa\n",
            "6     Dragoons     2nd     523  ...        0         24      Alaska\n",
            "7     Dragoons     2nd      62  ...        1         31  Washington\n",
            "8       Scouts     1st      62  ...        0          2      Oregon\n",
            "9       Scouts     1st      73  ...        0          3     Wyoming\n",
            "10      Scouts     2nd      37  ...        1          2    Louisana\n",
            "11      Scouts     2nd      35  ...        1          3     Georgia\n",
            "\n",
            "[12 rows x 10 columns]\n"
          ],
          "name": "stdout"
        }
      ]
    },
    {
      "cell_type": "code",
      "metadata": {
        "id": "mkvFD3LsXwNm",
        "colab": {
          "base_uri": "https://localhost:8080/"
        },
        "outputId": "41ed859b-0980-4a5c-8a64-5d09df22f3d7"
      },
      "source": [
        "# Print only the column veterans\r\n",
        "print(\"Print only the column veterans:\")\r\n",
        "column_veterans=army['veterans']\r\n",
        "print(column_veterans)\r\n",
        "\r\n",
        "# Print the columns 'veterans' and 'deaths'\r\n",
        "print(\"Print the columns 'veterans' and 'deaths' :\")\r\n",
        "h=army[['veterans' , 'deaths']]\r\n",
        "print(h)"
      ],
      "execution_count": 2,
      "outputs": [
        {
          "output_type": "stream",
          "text": [
            "Print only the column veterans:\n",
            "0       1\n",
            "1       5\n",
            "2      62\n",
            "3      26\n",
            "4      73\n",
            "5      37\n",
            "6     949\n",
            "7      48\n",
            "8      48\n",
            "9     435\n",
            "10     63\n",
            "11    345\n",
            "Name: veterans, dtype: int64\n",
            "Print the columns 'veterans' and 'deaths' :\n",
            "    veterans  deaths\n",
            "0          1     523\n",
            "1          5      52\n",
            "2         62      25\n",
            "3         26     616\n",
            "4         73      43\n",
            "5         37     234\n",
            "6        949     523\n",
            "7         48      62\n",
            "8         48      62\n",
            "9        435      73\n",
            "10        63      37\n",
            "11       345      35\n"
          ],
          "name": "stdout"
        }
      ]
    },
    {
      "cell_type": "code",
      "metadata": {
        "id": "A6KW_ULKYk5I",
        "colab": {
          "base_uri": "https://localhost:8080/"
        },
        "outputId": "2df41011-21f9-4bdf-c2c9-8763ef74bfbd"
      },
      "source": [
        "# Print the name of all the columns\r\n",
        "print(\"Print the name of all the columns:\")\r\n",
        "print( army.columns)\r\n",
        "\r\n",
        "# Select the 'deaths', 'size' and 'deserters' columns from Maine and Alaska\r\n",
        "print(\"Select the 'deaths', 'size' and 'deserters' columns from Maine and Alaska:\")\r\n",
        "s=army.loc[army.origin.isin(['Maine ',' Alaska']),['deaths', 'size' , 'deserters']]\r\n",
        "print(s)"
      ],
      "execution_count": 3,
      "outputs": [
        {
          "output_type": "stream",
          "text": [
            "Print the name of all the columns:\n",
            "Index(['regiment', 'company', 'deaths', 'battles', 'size', 'veterans',\n",
            "       'readiness', 'armored', 'deserters', 'origin'],\n",
            "      dtype='object')\n",
            "Select the 'deaths', 'size' and 'deserters' columns from Maine and Alaska:\n",
            "Empty DataFrame\n",
            "Columns: [deaths, size, deserters]\n",
            "Index: []\n"
          ],
          "name": "stdout"
        }
      ]
    },
    {
      "cell_type": "code",
      "metadata": {
        "colab": {
          "base_uri": "https://localhost:8080/"
        },
        "id": "MWb-6R6dZW2u",
        "outputId": "66fa739b-ce27-48d7-dfdb-6a51f485f8d7"
      },
      "source": [
        "# Select the rows 3 to 7 and the columns 3 to 6\r\n",
        "print(\"Select the rows 3 to 7 and the columns 3 to 6:\")\r\n",
        "print(army.iloc[3:8,3:7])\r\n",
        "\r\n",
        "# Select every row after the fourth row and all columns\r\n",
        "print(\"Select every row after the fourth row and all columns :\")\r\n",
        "print(army.iloc[4:,:])"
      ],
      "execution_count": 4,
      "outputs": [
        {
          "output_type": "stream",
          "text": [
            "Select the rows 3 to 7 and the columns 3 to 6:\n",
            "   battles  size  veterans  readiness\n",
            "3        2  1400        26          3\n",
            "4        4  1592        73          2\n",
            "5        7  1006        37          1\n",
            "6        8   987       949          2\n",
            "7        3   849        48          3\n",
            "Select every row after the fourth row and all columns :\n",
            "    regiment company  deaths  ...  armored  deserters      origin\n",
            "4   Dragoons     1st      43  ...        0          3       Maine\n",
            "5   Dragoons     1st     234  ...        1          4        Iowa\n",
            "6   Dragoons     2nd     523  ...        0         24      Alaska\n",
            "7   Dragoons     2nd      62  ...        1         31  Washington\n",
            "8     Scouts     1st      62  ...        0          2      Oregon\n",
            "9     Scouts     1st      73  ...        0          3     Wyoming\n",
            "10    Scouts     2nd      37  ...        1          2    Louisana\n",
            "11    Scouts     2nd      35  ...        1          3     Georgia\n",
            "\n",
            "[8 rows x 10 columns]\n"
          ],
          "name": "stdout"
        }
      ]
    },
    {
      "cell_type": "code",
      "metadata": {
        "colab": {
          "base_uri": "https://localhost:8080/"
        },
        "id": "WF6WPLRxZhxe",
        "outputId": "841b4bac-012e-49d5-ee61-a650fdc0d61a"
      },
      "source": [
        "# Select every row up to the 4th row and all columns\r\n",
        "print(\"Select every row up to the 4th row and all columns:\")\r\n",
        "print(army.iloc[:4,:])\r\n",
        "\r\n",
        "# Select the 3rd column up to the 7th column\r\n",
        "print(\"Select the 3rd column up to the 7th column :\")\r\n",
        "print(army.columns[2:7])"
      ],
      "execution_count": 6,
      "outputs": [
        {
          "output_type": "stream",
          "text": [
            "Select every row up to the 4th row and all columns:\n",
            "     regiment company  deaths  ...  armored  deserters      origin\n",
            "0  Nighthawks     1st     523  ...        1          4     Arizona\n",
            "1  Nighthawks     1st      52  ...        0         24  California\n",
            "2  Nighthawks     2nd      25  ...        1         31       Texas\n",
            "3  Nighthawks     2nd     616  ...        1          2     Florida\n",
            "\n",
            "[4 rows x 10 columns]\n",
            "Select the 3rd column up to the 7th column :\n",
            "Index(['deaths', 'battles', 'size', 'veterans', 'readiness'], dtype='object')\n"
          ],
          "name": "stdout"
        }
      ]
    },
    {
      "cell_type": "code",
      "metadata": {
        "colab": {
          "base_uri": "https://localhost:8080/"
        },
        "id": "L6kkiziiZq_U",
        "outputId": "3164b632-68d6-4de8-c9ef-b13c934bc1d4"
      },
      "source": [
        "# Select rows where df.deaths is greater than 50\r\n",
        "print(\"Select rows where df.deaths is greater than 50:\")\r\n",
        "va=army[(army.deaths>50)]\r\n",
        "print(va)\r\n",
        "\r\n",
        "# Select rows where df.deaths is greater than 500 or less than 50\r\n",
        "print(\"Select rows where df.deaths is greater than 500 or less than 50 :\")\r\n",
        "x=army[(army.deaths<50 )| (army.deaths >500)]\r\n",
        "print(x)"
      ],
      "execution_count": 7,
      "outputs": [
        {
          "output_type": "stream",
          "text": [
            "Select rows where df.deaths is greater than 50:\n",
            "     regiment company  deaths  ...  armored  deserters      origin\n",
            "0  Nighthawks     1st     523  ...        1          4     Arizona\n",
            "1  Nighthawks     1st      52  ...        0         24  California\n",
            "3  Nighthawks     2nd     616  ...        1          2     Florida\n",
            "5    Dragoons     1st     234  ...        1          4        Iowa\n",
            "6    Dragoons     2nd     523  ...        0         24      Alaska\n",
            "7    Dragoons     2nd      62  ...        1         31  Washington\n",
            "8      Scouts     1st      62  ...        0          2      Oregon\n",
            "9      Scouts     1st      73  ...        0          3     Wyoming\n",
            "\n",
            "[8 rows x 10 columns]\n",
            "Select rows where df.deaths is greater than 500 or less than 50 :\n",
            "      regiment company  deaths  ...  armored  deserters    origin\n",
            "0   Nighthawks     1st     523  ...        1          4   Arizona\n",
            "2   Nighthawks     2nd      25  ...        1         31     Texas\n",
            "3   Nighthawks     2nd     616  ...        1          2   Florida\n",
            "4     Dragoons     1st      43  ...        0          3     Maine\n",
            "6     Dragoons     2nd     523  ...        0         24    Alaska\n",
            "10      Scouts     2nd      37  ...        1          2  Louisana\n",
            "11      Scouts     2nd      35  ...        1          3   Georgia\n",
            "\n",
            "[7 rows x 10 columns]\n"
          ],
          "name": "stdout"
        }
      ]
    },
    {
      "cell_type": "code",
      "metadata": {
        "colab": {
          "base_uri": "https://localhost:8080/"
        },
        "id": "4M1gLMnDZwQ-",
        "outputId": "d4a2d3d7-ee48-4da7-e8df-4ae89f936ddb"
      },
      "source": [
        "# Select all the regiments not named \"Dragoons\"\r\n",
        "print(\"Select all the regiments not named Dragoons:\")\r\n",
        "\r\n",
        "b=army[army['regiment']!='Dragoons']\r\n",
        "print(b)\r\n",
        "\r\n",
        "# Select the rows called Texas and Arizona\r\n",
        "print(\"Select the rows called Texas and Arizona :\")\r\n",
        "rta=army[(army.origin == \"Texas\")|(army.origin == \"Arizona\")]\r\n",
        "print(rta)"
      ],
      "execution_count": 8,
      "outputs": [
        {
          "output_type": "stream",
          "text": [
            "Select all the regiments not named Dragoons:\n",
            "      regiment company  deaths  ...  armored  deserters      origin\n",
            "0   Nighthawks     1st     523  ...        1          4     Arizona\n",
            "1   Nighthawks     1st      52  ...        0         24  California\n",
            "2   Nighthawks     2nd      25  ...        1         31       Texas\n",
            "3   Nighthawks     2nd     616  ...        1          2     Florida\n",
            "8       Scouts     1st      62  ...        0          2      Oregon\n",
            "9       Scouts     1st      73  ...        0          3     Wyoming\n",
            "10      Scouts     2nd      37  ...        1          2    Louisana\n",
            "11      Scouts     2nd      35  ...        1          3     Georgia\n",
            "\n",
            "[8 rows x 10 columns]\n",
            "Select the rows called Texas and Arizona :\n",
            "     regiment company  deaths  battles  ...  readiness  armored  deserters   origin\n",
            "0  Nighthawks     1st     523        5  ...          1        1          4  Arizona\n",
            "2  Nighthawks     2nd      25        2  ...          3        1         31    Texas\n",
            "\n",
            "[2 rows x 10 columns]\n"
          ],
          "name": "stdout"
        }
      ]
    },
    {
      "cell_type": "code",
      "metadata": {
        "colab": {
          "base_uri": "https://localhost:8080/"
        },
        "id": "m0-4X2tgZ2RC",
        "outputId": "1723d518-41c8-405a-9202-935014482aed"
      },
      "source": [
        "# Select the third cell in the row named Arizona\r\n",
        "print(\"Select the third cell in the row named Arizona :\")\r\n",
        "ra=army[(army.origin == \"Arizona\")]\r\n",
        "print(ra.deaths)\r\n",
        "\r\n",
        "# Select the third cell down in the column named deaths\r\n",
        "print(\"Select the third cell down in the column named deaths :\")\r\n",
        "tcd=army.deaths\r\n",
        "print( tcd[3])"
      ],
      "execution_count": 9,
      "outputs": [
        {
          "output_type": "stream",
          "text": [
            "Select the third cell in the row named Arizona :\n",
            "0    523\n",
            "Name: deaths, dtype: int64\n",
            "Select the third cell down in the column named deaths :\n",
            "616\n"
          ],
          "name": "stdout"
        }
      ]
    },
    {
      "cell_type": "code",
      "metadata": {
        "id": "PT7blD_JZjBQ"
      },
      "source": [
        ""
      ],
      "execution_count": null,
      "outputs": []
    }
  ]
}