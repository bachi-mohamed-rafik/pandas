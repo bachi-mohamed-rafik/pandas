{
  "nbformat": 4,
  "nbformat_minor": 0,
  "metadata": {
    "colab": {
      "name": "Investor Flow Of Funds US.ipynb",
      "provenance": [],
      "collapsed_sections": [],
      "authorship_tag": "ABX9TyPQD/o+Yjphfy5m0eUFXNUk",
      "include_colab_link": true
    },
    "kernelspec": {
      "name": "python3",
      "display_name": "Python 3"
    }
  },
  "cells": [
    {
      "cell_type": "markdown",
      "metadata": {
        "id": "view-in-github",
        "colab_type": "text"
      },
      "source": [
        "<a href=\"https://colab.research.google.com/github/bachi-mohamed-rafik/pandas/blob/main/Investor_Flow_Of_Funds_US.ipynb\" target=\"_parent\"><img src=\"https://colab.research.google.com/assets/colab-badge.svg\" alt=\"Open In Colab\"/></a>"
      ]
    },
    {
      "cell_type": "markdown",
      "metadata": {
        "id": "w4LVyRnTVdx1"
      },
      "source": [
        "#Investor Flow Of Funds US"
      ]
    },
    {
      "cell_type": "code",
      "metadata": {
        "colab": {
          "base_uri": "https://localhost:8080/"
        },
        "id": "rJpIJxBaVVAp",
        "outputId": "ec6c3e25-52e5-4706-ee51-6b9ffbe09eb3"
      },
      "source": [
        "import pandas as pd\r\n",
        "\r\n",
        "url='https://raw.githubusercontent.com/datasets/investor-flow-of-funds-us/master/data/weekly.csv'\r\n",
        "called=pd.read_csv(url,sep=',')\r\n",
        "print(called.head())"
      ],
      "execution_count": 1,
      "outputs": [
        {
          "output_type": "stream",
          "text": [
            "         Date  Total Equity  ...  Municipal Bond  Total\n",
            "0  2012-12-05         -7426  ...            1107  -2183\n",
            "1  2012-12-12         -8783  ...             219  -6842\n",
            "2  2012-12-19         -5496  ...           -3369  -5466\n",
            "3  2012-12-26         -4451  ...            -722  -1291\n",
            "4  2013-01-02        -11156  ...             280  -8931\n",
            "\n",
            "[5 rows x 9 columns]\n"
          ],
          "name": "stdout"
        }
      ]
    },
    {
      "cell_type": "code",
      "metadata": {
        "colab": {
          "base_uri": "https://localhost:8080/"
        },
        "id": "LQl1Tu9nVuif",
        "outputId": "b23b19da-3426-4dc2-a440-907bebd76193"
      },
      "source": [
        "# What is the frequency of the dataset?\r\n",
        "print(\"The frequency of the dataset:\")\r\n",
        "print(called.shape)"
      ],
      "execution_count": 2,
      "outputs": [
        {
          "output_type": "stream",
          "text": [
            "The frequency of the dataset:\n",
            "(44, 9)\n"
          ],
          "name": "stdout"
        }
      ]
    },
    {
      "cell_type": "code",
      "metadata": {
        "colab": {
          "base_uri": "https://localhost:8080/"
        },
        "id": "pzbjKySIV077",
        "outputId": "692a9750-7a1a-4a8f-f753-bf557824eda9"
      },
      "source": [
        "# Set the column Date as the index\r\n",
        "print(\"Set the column Date as the index:\")\r\n",
        "called.set_index('Date')\r\n",
        "\r\n",
        "# What is the type of the index?\r\n",
        "print(\"The type of the index:\")\r\n",
        "print(called.index.dtype)"
      ],
      "execution_count": 3,
      "outputs": [
        {
          "output_type": "stream",
          "text": [
            "Set the column Date as the index:\n",
            "The type of the index:\n",
            "int64\n"
          ],
          "name": "stdout"
        }
      ]
    },
    {
      "cell_type": "code",
      "metadata": {
        "colab": {
          "base_uri": "https://localhost:8080/"
        },
        "id": "NYO6StlwV38p",
        "outputId": "e5b1587a-6713-488d-ca41-f07821c78580"
      },
      "source": [
        "# Set the index to a DatetimeIndex type\r\n",
        "print(\"Set the index to a DatetimeIndex type:\")\r\n",
        "called.index=pd.to_datetime(called.index)\r\n",
        "\r\n",
        "# Change the frequency to monthly, sum the values and assign it to monthly.\r\n",
        "print(\"Change the frequency to monthly, sum the values and assign it to monthly:\")\r\n",
        "monthly=called.resample('M').sum()\r\n",
        "print(monthly)"
      ],
      "execution_count": 4,
      "outputs": [
        {
          "output_type": "stream",
          "text": [
            "Set the index to a DatetimeIndex type:\n",
            "Change the frequency to monthly, sum the values and assign it to monthly:\n",
            "            Total Equity  Domestic Equity  ...  Municipal Bond   Total\n",
            "1970-01-31         -7116           -79901  ...           22907  130902\n",
            "\n",
            "[1 rows x 8 columns]\n"
          ],
          "name": "stdout"
        }
      ]
    },
    {
      "cell_type": "code",
      "metadata": {
        "colab": {
          "base_uri": "https://localhost:8080/"
        },
        "id": "d_UWLBv3V8TI",
        "outputId": "1d806b09-7b38-4be4-d5be-458b72f4252f"
      },
      "source": [
        "# You will notice that it filled the dataFrame with months that don't have any data with NaN. Let's drop these rows.\r\n",
        "print(\"You will notice that it filled the dataFrame with months that don't have any data with NaN. Let's drop these rows:\")\r\n",
        "\r\n",
        "monthly=monthly.dropna()\r\n",
        "print(monthly)"
      ],
      "execution_count": 5,
      "outputs": [
        {
          "output_type": "stream",
          "text": [
            "You will notice that it filled the dataFrame with months that don't have any data with NaN. Let's drop these rows:\n",
            "            Total Equity  Domestic Equity  ...  Municipal Bond   Total\n",
            "1970-01-31         -7116           -79901  ...           22907  130902\n",
            "\n",
            "[1 rows x 8 columns]\n"
          ],
          "name": "stdout"
        }
      ]
    },
    {
      "cell_type": "code",
      "metadata": {
        "colab": {
          "base_uri": "https://localhost:8080/"
        },
        "id": "pJwd9QTGV_H5",
        "outputId": "7e725139-cd6d-47b7-f6c7-2e1ffa901987"
      },
      "source": [
        "# Good, now we have the monthly data. Now change the frequency to year.\r\n",
        "print(\"change the frequency to year:\")\r\n",
        "year=called.resample('Y').sum()\r\n",
        "print(year)"
      ],
      "execution_count": 7,
      "outputs": [
        {
          "output_type": "stream",
          "text": [
            "change the frequency to year:\n",
            "            Total Equity  Domestic Equity  ...  Municipal Bond   Total\n",
            "1970-12-31         -7116           -79901  ...           22907  130902\n",
            "\n",
            "[1 rows x 8 columns]\n"
          ],
          "name": "stdout"
        }
      ]
    }
  ]
}