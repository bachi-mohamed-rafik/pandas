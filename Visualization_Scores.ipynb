{
  "nbformat": 4,
  "nbformat_minor": 0,
  "metadata": {
    "colab": {
      "name": "Visualization Scores.ipynb",
      "provenance": [],
      "collapsed_sections": [],
      "authorship_tag": "ABX9TyOhqWLa5L9bgxg5hvd2fdEP",
      "include_colab_link": true
    },
    "kernelspec": {
      "name": "python3",
      "display_name": "Python 3"
    }
  },
  "cells": [
    {
      "cell_type": "markdown",
      "metadata": {
        "id": "view-in-github",
        "colab_type": "text"
      },
      "source": [
        "<a href=\"https://colab.research.google.com/github/bachi-mohamed-rafik/pandas/blob/main/Visualization_Scores.ipynb\" target=\"_parent\"><img src=\"https://colab.research.google.com/assets/colab-badge.svg\" alt=\"Open In Colab\"/></a>"
      ]
    },
    {
      "cell_type": "markdown",
      "metadata": {
        "id": "a7c2gB1sFOVC"
      },
      "source": [
        "#Visualization Scores"
      ]
    },
    {
      "cell_type": "code",
      "metadata": {
        "id": "S_-P6m9zEyTM"
      },
      "source": [
        "import pandas as pd\r\n",
        "import numpy as np\r\n",
        "import matplotlib.pyplot as plts\r\n",
        "from matplotlib import pyplot as plt"
      ],
      "execution_count": 13,
      "outputs": []
    },
    {
      "cell_type": "code",
      "metadata": {
        "colab": {
          "base_uri": "https://localhost:8080/"
        },
        "id": "Zu6pJcvkFW_7",
        "outputId": "071a3e5e-02d8-4b26-8a43-100fb1df0412"
      },
      "source": [
        "\r\n",
        "data={'first_name':['Jason','Molly','Tina','Jake','Aly'],\r\n",
        "'last_name':['Miller','Jacobson','Ali','Milner','Cooze'],\r\n",
        "'age':[42,52,36,24,73],\r\n",
        "'female':[0,1,1,0,1],\r\n",
        "'preTestScore':[4,24,31,2,3],\r\n",
        "'postTestScore':[25,94,57,62,70]\r\n",
        "}\r\n",
        "data1=pd.DataFrame(data,columns=['first_name'\t,'last_name',\t'age',\t'female',\t'preTestScore',\t'postTestScore'])\r\n",
        "\r\n",
        "\r\n",
        "print(data1)"
      ],
      "execution_count": 14,
      "outputs": [
        {
          "output_type": "stream",
          "text": [
            "  first_name last_name  age  female  preTestScore  postTestScore\n",
            "0      Jason    Miller   42       0             4             25\n",
            "1      Molly  Jacobson   52       1            24             94\n",
            "2       Tina       Ali   36       1            31             57\n",
            "3       Jake    Milner   24       0             2             62\n",
            "4        Aly     Cooze   73       1             3             70\n"
          ],
          "name": "stdout"
        }
      ]
    },
    {
      "cell_type": "code",
      "metadata": {
        "colab": {
          "base_uri": "https://localhost:8080/",
          "height": 312
        },
        "id": "SutD7ltjFZ3W",
        "outputId": "e88083e6-1c80-4fe9-8369-ec711619edba"
      },
      "source": [
        "# Create a Scatterplot of preTestScore and postTestScore, with the size of each point determined by age\r\n",
        "print(\"Create a Scatterplot of preTestScore and postTestScore, with the size of each point determined by age :\")\r\n",
        "ax = data1.plot.scatter(x='preTestScore',\r\n",
        "                      y='postTestScore',\r\n",
        "                      s=data1.age)\r\n",
        "\r\n",
        "ax.plot(kind='bar')\r\n",
        "plt.xlabel('preTestScore')\r\n",
        "plt.ylabel('postTestScore')\r\n",
        "plt.title('Scatterplot of preTestScore and postTestScore')\r\n",
        "plt.show()"
      ],
      "execution_count": 15,
      "outputs": [
        {
          "output_type": "stream",
          "text": [
            "Create a Scatterplot of preTestScore and postTestScore, with the size of each point determined by age :\n"
          ],
          "name": "stdout"
        },
        {
          "output_type": "display_data",
          "data": {
            "image/png": "[encoded data removed]",
            "text/plain": [
              "<Figure size 432x288 with 1 Axes>"
            ]
          },
          "metadata": {
            "tags": [],
            "needs_background": "light"
          }
        }
      ]
    }
  ]
}