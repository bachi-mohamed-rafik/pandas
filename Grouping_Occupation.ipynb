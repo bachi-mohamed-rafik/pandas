{
  "nbformat": 4,
  "nbformat_minor": 0,
  "metadata": {
    "colab": {
      "name": "Grouping Occupation.ipynb",
      "provenance": [],
      "collapsed_sections": [],
      "authorship_tag": "ABX9TyMzJXUvPi68nH9dbnqwdm6q",
      "include_colab_link": true
    },
    "kernelspec": {
      "name": "python3",
      "display_name": "Python 3"
    }
  },
  "cells": [
    {
      "cell_type": "markdown",
      "metadata": {
        "id": "view-in-github",
        "colab_type": "text"
      },
      "source": [
        "<a href=\"https://colab.research.google.com/github/bachi-mohamed-rafik/pandas/blob/main/Grouping_Occupation.ipynb\" target=\"_parent\"><img src=\"https://colab.research.google.com/assets/colab-badge.svg\" alt=\"Open In Colab\"/></a>"
      ]
    },
    {
      "cell_type": "markdown",
      "metadata": {
        "id": "sZJtgWbkuvCS"
      },
      "source": [
        "#Grouping Occupation"
      ]
    },
    {
      "cell_type": "code",
      "metadata": {
        "id": "nFo3B0touskR"
      },
      "source": [
        "import pandas as pd\r\n",
        "url=\"https://raw.githubusercontent.com/justmarkham/DAT8/master/data/u.user\"\r\n",
        "users=pd.read_csv(url,sep='|')"
      ],
      "execution_count": 1,
      "outputs": []
    },
    {
      "cell_type": "code",
      "metadata": {
        "colab": {
          "base_uri": "https://localhost:8080/"
        },
        "id": "ofbWyW9LvAKi",
        "outputId": "e7d73e00-e333-4a1e-91a0-d0423d0aff52"
      },
      "source": [
        "# Discover what is the mean age per occupation\r\n",
        "print(\"Discover what is the mean age per occupation:\")\r\n",
        "col1_list = users['occupation'].tolist()\r\n",
        "occ = list(dict.fromkeys(col1_list))\r\n",
        "\r\n",
        "\r\n",
        "print( users.groupby('occupation').age.mean())"
      ],
      "execution_count": 2,
      "outputs": [
        {
          "output_type": "stream",
          "text": [
            "Discover what is the mean age per occupation:\n",
            "occupation\n",
            "administrator    38.746835\n",
            "artist           31.392857\n",
            "doctor           43.571429\n",
            "educator         42.010526\n",
            "engineer         36.388060\n",
            "entertainment    29.222222\n",
            "executive        38.718750\n",
            "healthcare       41.562500\n",
            "homemaker        32.571429\n",
            "lawyer           36.750000\n",
            "librarian        40.000000\n",
            "marketing        37.615385\n",
            "none             26.555556\n",
            "other            34.523810\n",
            "programmer       33.121212\n",
            "retired          63.071429\n",
            "salesman         35.666667\n",
            "scientist        35.548387\n",
            "student          22.081633\n",
            "technician       33.148148\n",
            "writer           36.311111\n",
            "Name: age, dtype: float64\n"
          ],
          "name": "stdout"
        }
      ]
    },
    {
      "cell_type": "code",
      "metadata": {
        "colab": {
          "base_uri": "https://localhost:8080/"
        },
        "id": "y65nm4VnvDTl",
        "outputId": "9541bd56-c8b5-4588-d8a7-127c2e2c4e4d"
      },
      "source": [
        "# Discover the Male ratio per occupation and sort it from the most to the least\r\n",
        "def gender_to_numeric(x):\r\n",
        "\tif(x=='M'):\r\n",
        "\t\treturn 1\r\n",
        "\tif(x=='F'):\r\n",
        "\t\treturn 0\r\n",
        "\r\n",
        "users['gender_n']=users['gender'].apply(gender_to_numeric)\r\n",
        "a=users.groupby('occupation').gender_n.sum()/users.occupation.value_counts() *100\r\n",
        "print(a.sort_values(ascending=False))"
      ],
      "execution_count": 3,
      "outputs": [
        {
          "output_type": "stream",
          "text": [
            "doctor           100.000000\n",
            "engineer          97.014925\n",
            "technician        96.296296\n",
            "retired           92.857143\n",
            "programmer        90.909091\n",
            "executive         90.625000\n",
            "scientist         90.322581\n",
            "entertainment     88.888889\n",
            "lawyer            83.333333\n",
            "salesman          75.000000\n",
            "educator          72.631579\n",
            "student           69.387755\n",
            "other             65.714286\n",
            "marketing         61.538462\n",
            "writer            57.777778\n",
            "none              55.555556\n",
            "administrator     54.430380\n",
            "artist            53.571429\n",
            "librarian         43.137255\n",
            "healthcare        31.250000\n",
            "homemaker         14.285714\n",
            "dtype: float64\n"
          ],
          "name": "stdout"
        }
      ]
    },
    {
      "cell_type": "code",
      "metadata": {
        "colab": {
          "base_uri": "https://localhost:8080/"
        },
        "id": "DZ0G0iaYvMrJ",
        "outputId": "1e315969-2aae-4493-a3e6-339446d0eebe"
      },
      "source": [
        "# For each occupation, calculate the minimum and maximum ages\r\n",
        "print(\"For each occupation, calculate the minimum and maximum ages:\")\r\n",
        "r=users.groupby('occupation').age.agg(['min','max'])\r\n",
        "print(r)\r\n",
        "\r\n",
        "\r\n",
        "# For each combination of occupation and gender, calculate the mean age\r\n",
        "print(\"For each combination of occupation and gender, calculate the mean age :\")\r\n",
        "b=users.groupby(['occupation','gender']).age.mean()\r\n",
        "print(b)\r\n",
        "\r\n",
        "# For each occupation present the percentage of women and men\r\n",
        "print(\"For each occupation present the percentage of women and men:\")\r\n",
        "# create a data frame and apply count to gender\r\n",
        "gender_ocup = users.groupby(['occupation', 'gender']).agg({'gender': 'count'})"
      ],
      "execution_count": 4,
      "outputs": [
        {
          "output_type": "stream",
          "text": [
            "For each occupation, calculate the minimum and maximum ages:\n",
            "               min  max\n",
            "occupation             \n",
            "administrator   21   70\n",
            "artist          19   48\n",
            "doctor          28   64\n",
            "educator        23   63\n",
            "engineer        22   70\n",
            "entertainment   15   50\n",
            "executive       22   69\n",
            "healthcare      22   62\n",
            "homemaker       20   50\n",
            "lawyer          21   53\n",
            "librarian       23   69\n",
            "marketing       24   55\n",
            "none            11   55\n",
            "other           13   64\n",
            "programmer      20   63\n",
            "retired         51   73\n",
            "salesman        18   66\n",
            "scientist       23   55\n",
            "student          7   42\n",
            "technician      21   55\n",
            "writer          18   60\n",
            "For each combination of occupation and gender, calculate the mean age :\n",
            "occupation     gender\n",
            "administrator  F         40.638889\n",
            "               M         37.162791\n",
            "artist         F         30.307692\n",
            "               M         32.333333\n",
            "doctor         M         43.571429\n",
            "educator       F         39.115385\n",
            "               M         43.101449\n",
            "engineer       F         29.500000\n",
            "               M         36.600000\n",
            "entertainment  F         31.000000\n",
            "               M         29.000000\n",
            "executive      F         44.000000\n",
            "               M         38.172414\n",
            "healthcare     F         39.818182\n",
            "               M         45.400000\n",
            "homemaker      F         34.166667\n",
            "               M         23.000000\n",
            "lawyer         F         39.500000\n",
            "               M         36.200000\n",
            "librarian      F         40.000000\n",
            "               M         40.000000\n",
            "marketing      F         37.200000\n",
            "               M         37.875000\n",
            "none           F         36.500000\n",
            "               M         18.600000\n",
            "other          F         35.472222\n",
            "               M         34.028986\n",
            "programmer     F         32.166667\n",
            "               M         33.216667\n",
            "retired        F         70.000000\n",
            "               M         62.538462\n",
            "salesman       F         27.000000\n",
            "               M         38.555556\n",
            "scientist      F         28.333333\n",
            "               M         36.321429\n",
            "student        F         20.750000\n",
            "               M         22.669118\n",
            "technician     F         38.000000\n",
            "               M         32.961538\n",
            "writer         F         37.631579\n",
            "               M         35.346154\n",
            "Name: age, dtype: float64\n",
            "For each occupation present the percentage of women and men:\n"
          ],
          "name": "stdout"
        }
      ]
    },
    {
      "cell_type": "code",
      "metadata": {
        "colab": {
          "base_uri": "https://localhost:8080/"
        },
        "id": "gpgcGOjSvSrA",
        "outputId": "63573088-8802-4e2b-d05e-b6fd4c5aa8ae"
      },
      "source": [
        "# create a DataFrame and apply count for each occupation\r\n",
        "occup_count = users.groupby(['occupation']).agg('count')\r\n",
        "\r\n",
        "# divide the gender_ocup per the occup_count and multiply per 100\r\n",
        "occup_gender = gender_ocup.div(occup_count, level = \"occupation\") * 100\r\n",
        "\r\n",
        "# present all rows from the 'gender column'\r\n",
        "print( occup_gender.loc[: , 'gender'])"
      ],
      "execution_count": 5,
      "outputs": [
        {
          "output_type": "stream",
          "text": [
            "occupation     gender\n",
            "administrator  F          45.569620\n",
            "               M          54.430380\n",
            "artist         F          46.428571\n",
            "               M          53.571429\n",
            "doctor         M         100.000000\n",
            "educator       F          27.368421\n",
            "               M          72.631579\n",
            "engineer       F           2.985075\n",
            "               M          97.014925\n",
            "entertainment  F          11.111111\n",
            "               M          88.888889\n",
            "executive      F           9.375000\n",
            "               M          90.625000\n",
            "healthcare     F          68.750000\n",
            "               M          31.250000\n",
            "homemaker      F          85.714286\n",
            "               M          14.285714\n",
            "lawyer         F          16.666667\n",
            "               M          83.333333\n",
            "librarian      F          56.862745\n",
            "               M          43.137255\n",
            "marketing      F          38.461538\n",
            "               M          61.538462\n",
            "none           F          44.444444\n",
            "               M          55.555556\n",
            "other          F          34.285714\n",
            "               M          65.714286\n",
            "programmer     F           9.090909\n",
            "               M          90.909091\n",
            "retired        F           7.142857\n",
            "               M          92.857143\n",
            "salesman       F          25.000000\n",
            "               M          75.000000\n",
            "scientist      F           9.677419\n",
            "               M          90.322581\n",
            "student        F          30.612245\n",
            "               M          69.387755\n",
            "technician     F           3.703704\n",
            "               M          96.296296\n",
            "writer         F          42.222222\n",
            "               M          57.777778\n",
            "Name: gender, dtype: float64\n"
          ],
          "name": "stdout"
        }
      ]
    }
  ]
}