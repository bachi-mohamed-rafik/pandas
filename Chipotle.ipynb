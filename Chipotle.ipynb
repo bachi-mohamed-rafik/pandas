{
  "nbformat": 4,
  "nbformat_minor": 0,
  "metadata": {
    "colab": {
      "name": "Chipotle.ipynb",
      "provenance": [],
      "collapsed_sections": [],
      "authorship_tag": "ABX9TyM+H6HN93VX38VOYQMaScnP",
      "include_colab_link": true
    },
    "kernelspec": {
      "name": "python3",
      "display_name": "Python 3"
    }
  },
  "cells": [
    {
      "cell_type": "markdown",
      "metadata": {
        "id": "view-in-github",
        "colab_type": "text"
      },
      "source": [
        "<a href=\"https://colab.research.google.com/github/bachi-mohamed-rafik/pandas/blob/main/Chipotle.ipynb\" target=\"_parent\"><img src=\"https://colab.research.google.com/assets/colab-badge.svg\" alt=\"Open In Colab\"/></a>"
      ]
    },
    {
      "cell_type": "markdown",
      "metadata": {
        "id": "_dPLk9g6gx9q"
      },
      "source": [
        "#Pandas \r\n",
        "#Chipotle\r\n",
        "\r\n"
      ]
    },
    {
      "cell_type": "code",
      "metadata": {
        "id": "OxNDDELWgsoO"
      },
      "source": [
        "# Import the necessary libraries\r\n",
        "import pandas as pd\r\n",
        "import requests\r\n"
      ],
      "execution_count": 4,
      "outputs": []
    },
    {
      "cell_type": "code",
      "metadata": {
        "id": "R4QMQMKKg9eA"
      },
      "source": [
        "# Import the dataset from this address.¶\r\n",
        "# Assign it to a variable called chipo\r\n",
        "url=\"https://raw.githubusercontent.com/justmarkham/DAT8/master/data/chipotle.tsv\"\r\n",
        "chipo=pd.read_csv(url ,sep='\\t')"
      ],
      "execution_count": 5,
      "outputs": []
    },
    {
      "cell_type": "code",
      "metadata": {
        "colab": {
          "base_uri": "https://localhost:8080/"
        },
        "id": "v3BpPLqKhKL4",
        "outputId": "3228d2dd-94a8-41dd-b8dc-341333e6fe94"
      },
      "source": [
        "# See the first 10 entries\r\n",
        "print(\"See the first 10 entries\")\r\n",
        "print(chipo.head(10))\r\n",
        "\r\n",
        "# What is the number of observations in the dataset\r\n",
        "print(\"the number of observations in the dataset\")\r\n",
        "print(chipo.shape)\r\n",
        "\r\n",
        "# What is the number of columns in the dataset\r\n",
        "print(\"the number of columns in the dataset : \")\r\n",
        "print(len(chipo.columns))\r\n",
        "\r\n",
        "# Print the name of all the columns.\r\n",
        "print(\"the name of all the columns :\")\r\n",
        "print(chipo.columns)\r\n",
        "\r\n",
        "# How is the dataset indexed\r\n",
        "print(\"How is the dataset indexed :\")\r\n",
        "print(chipo.index)"
      ],
      "execution_count": 6,
      "outputs": [
        {
          "output_type": "stream",
          "text": [
            "See the first 10 entries\n",
            "   order_id  ...  item_price\n",
            "0         1  ...      $2.39 \n",
            "1         1  ...      $3.39 \n",
            "2         1  ...      $3.39 \n",
            "3         1  ...      $2.39 \n",
            "4         2  ...     $16.98 \n",
            "5         3  ...     $10.98 \n",
            "6         3  ...      $1.69 \n",
            "7         4  ...     $11.75 \n",
            "8         4  ...      $9.25 \n",
            "9         5  ...      $9.25 \n",
            "\n",
            "[10 rows x 5 columns]\n",
            "the number of observations in the dataset\n",
            "(4622, 5)\n",
            "the number of columns in the dataset : \n",
            "5\n",
            "the name of all the columns :\n",
            "Index(['order_id', 'quantity', 'item_name', 'choice_description',\n",
            "       'item_price'],\n",
            "      dtype='object')\n",
            "How is the dataset indexed :\n",
            "RangeIndex(start=0, stop=4622, step=1)\n"
          ],
          "name": "stdout"
        }
      ]
    },
    {
      "cell_type": "code",
      "metadata": {
        "colab": {
          "base_uri": "https://localhost:8080/"
        },
        "id": "K-BO9VQ8hMF_",
        "outputId": "d221a706-d51d-4da2-b174-e2c76e38250e"
      },
      "source": [
        "# Which was the most-ordered item\r\n",
        "print(\"Which was the most-ordered item :  +  how many items were ordered\")\r\n",
        "items  = chipo.item_name.value_counts().head(1)\r\n",
        "print(items)\r\n",
        "\r\n",
        "# \r\n",
        "print(\"the most ordered item in the choice_description column : \")\r\n",
        "freq_choice_description  = chipo.choice_description.value_counts()\r\n",
        "print(freq_choice_description)\r\n",
        "\r\n",
        "# How many items were orderd in total\r\n",
        "print(\"How many items were orderd in total : \")\r\n",
        "orderd = chipo.item_name.value_counts()\r\n",
        "items_count = len(orderd)\r\n",
        "print(items_count)\r\n"
      ],
      "execution_count": 7,
      "outputs": [
        {
          "output_type": "stream",
          "text": [
            "Which was the most-ordered item :  +  how many items were ordered\n",
            "Chicken Bowl    726\n",
            "Name: item_name, dtype: int64\n",
            "the most ordered item in the choice_description column : \n",
            "[Diet Coke]                                                                                        134\n",
            "[Coke]                                                                                             123\n",
            "[Sprite]                                                                                            77\n",
            "[Fresh Tomato Salsa, [Rice, Black Beans, Cheese, Sour Cream, Lettuce]]                              42\n",
            "[Fresh Tomato Salsa, [Rice, Black Beans, Cheese, Sour Cream, Guacamole, Lettuce]]                   40\n",
            "                                                                                                  ... \n",
            "[Tomatillo Red Chili Salsa, [Rice, Fajita Vegetables, Sour Cream, Lettuce]]                          1\n",
            "[Roasted Chili Corn Salsa, [Fajita Vegetables, Rice, Pinto Beans, Cheese, Guacamole, Lettuce]]       1\n",
            "[Fresh Tomato Salsa, [Lettuce, Rice, Black Beans, Cheese]]                                           1\n",
            "[Tomatillo Green Chili Salsa, [Sour Cream, Cheese, Lettuce]]                                         1\n",
            "[[Roasted Chili Corn Salsa (Medium), Tomatillo-Red Chili Salsa (Hot)], [Rice, Cheese, Lettuce]]      1\n",
            "Name: choice_description, Length: 1043, dtype: int64\n",
            "How many items were orderd in total : \n",
            "50\n"
          ],
          "name": "stdout"
        }
      ]
    },
    {
      "cell_type": "code",
      "metadata": {
        "colab": {
          "base_uri": "https://localhost:8080/"
        },
        "id": "kZqvSZzShTd0",
        "outputId": "df4719dd-d73d-47c6-f6ea-e42eb810c645"
      },
      "source": [
        "# 13. Turn the item price into a float\r\n",
        "print(\" 13. Turn the item price into a float : \")\r\n",
        "chipo['item_price'] = chipo['item_price'].map(lambda x: x.lstrip('$'))\r\n",
        "chipo['item_price'] = chipo['item_price'].astype({\"item_price\": float})\r\n",
        "print(chipo)\r\n",
        "\r\n",
        "#Check the item price type\r\n",
        "print(\"Check the item price type :\")\r\n",
        "print(chipo['item_price'].dtypes)\r\n",
        "\r\n",
        "# 13.b. Create a lambda function and change the type of item price\r\n",
        "def lambeda():\r\n",
        "\tx=0\r\n",
        "\twhile((x!=1)or(x!=2)or(x!=3)):\r\n",
        "\t\tx=int(input(\"Tape  1 for int or 2 for float  or 3 for string\"))\r\n",
        "\tif (x==1):\r\n",
        "\t\tchipo['item_price'] = chipo['item_price'].map(lambda x: x.lstrip('$'))\r\n",
        "\t\tchipo['item_price'] = chipo['item_price'].astype({\"item_price\": int})\r\n",
        "\t\tprint(chipo)\r\n",
        "\tif (x==2):\r\n",
        "\t\tchipo['item_price'] = chipo['item_price'].map(lambda x: x.lstrip('$'))\r\n",
        "\t\tchipo['item_price'] = chipo['item_price'].astype({\"item_price\": float})\r\n",
        "\t\tprint(chipo)        \r\n",
        "\tif (x==2):\r\n",
        "\t\tchipo['item_price'] = chipo['item_price'].map(lambda x: x.lstrip('$'))\r\n",
        "\t\tchipo['item_price'] = chipo['item_price'].astype({\"item_price\": string})\r\n",
        "\t\tprint(chipo)        \r\n"
      ],
      "execution_count": 8,
      "outputs": [
        {
          "output_type": "stream",
          "text": [
            " 13. Turn the item price into a float : \n",
            "      order_id  ...  item_price\n",
            "0            1  ...        2.39\n",
            "1            1  ...        3.39\n",
            "2            1  ...        3.39\n",
            "3            1  ...        2.39\n",
            "4            2  ...       16.98\n",
            "...        ...  ...         ...\n",
            "4617      1833  ...       11.75\n",
            "4618      1833  ...       11.75\n",
            "4619      1834  ...       11.25\n",
            "4620      1834  ...        8.75\n",
            "4621      1834  ...        8.75\n",
            "\n",
            "[4622 rows x 5 columns]\n",
            "Check the item price type :\n",
            "float64\n"
          ],
          "name": "stdout"
        }
      ]
    },
    {
      "cell_type": "code",
      "metadata": {
        "colab": {
          "base_uri": "https://localhost:8080/"
        },
        "id": "fGTEywsxhaDO",
        "outputId": "76312ff6-1e9c-4cfc-d8cd-008af6366c77"
      },
      "source": [
        "# 14. How much was the revenue for the period in the dataset\r\n",
        "t = chipo['quantity'] * chipo['item_price']\r\n",
        "print(t)\r\n",
        "print(\"\\t the revenue for the period in the dataset:  \\t\")\r\n",
        "print(t.sum())\r\n",
        "\r\n",
        "# Step 15. How many orders were made in the period\r\n",
        "command_count = chipo['order_id'].max()\r\n",
        "print(\"Order count : \\t  \")\r\n",
        "print(command_count)\r\n"
      ],
      "execution_count": 9,
      "outputs": [
        {
          "output_type": "stream",
          "text": [
            "0        2.39\n",
            "1        3.39\n",
            "2        3.39\n",
            "3        2.39\n",
            "4       33.96\n",
            "        ...  \n",
            "4617    11.75\n",
            "4618    11.75\n",
            "4619    11.25\n",
            "4620     8.75\n",
            "4621     8.75\n",
            "Length: 4622, dtype: float64\n",
            "\t the revenue for the period in the dataset:  \t\n",
            "39237.02\n",
            "Order count : \t  \n",
            "1834\n"
          ],
          "name": "stdout"
        }
      ]
    },
    {
      "cell_type": "code",
      "metadata": {
        "colab": {
          "base_uri": "https://localhost:8080/"
        },
        "id": "-yBA6SGxhiHC",
        "outputId": "8803b736-b4ff-409f-de32-8074934ee348"
      },
      "source": [
        "# Step 16. What is the average revenue amount per order\r\n",
        "chipo['gain'] = chipo['quantity'] * chipo['item_price']\r\n",
        "order_grouped = chipo.groupby(by=['order_id']).sum()\r\n",
        "print(order_grouped.mean()['gain'])\r\n",
        "\r\n",
        "# Step 17. How many different items are sold\r\n",
        "print(\"Step 17. How many different items are sold\")\r\n",
        "x=chipo['item_name'].value_counts()\r\n",
        "print(x)\r\n",
        "print(x.count())\r\n"
      ],
      "execution_count": 10,
      "outputs": [
        {
          "output_type": "stream",
          "text": [
            "21.394231188658654\n",
            "Step 17. How many different items are sold\n",
            "Chicken Bowl                             726\n",
            "Chicken Burrito                          553\n",
            "Chips and Guacamole                      479\n",
            "Steak Burrito                            368\n",
            "Canned Soft Drink                        301\n",
            "Chips                                    211\n",
            "Steak Bowl                               211\n",
            "Bottled Water                            162\n",
            "Chicken Soft Tacos                       115\n",
            "Chips and Fresh Tomato Salsa             110\n",
            "Chicken Salad Bowl                       110\n",
            "Canned Soda                              104\n",
            "Side of Chips                            101\n",
            "Veggie Burrito                            95\n",
            "Barbacoa Burrito                          91\n",
            "Veggie Bowl                               85\n",
            "Carnitas Bowl                             68\n",
            "Barbacoa Bowl                             66\n",
            "Carnitas Burrito                          59\n",
            "Steak Soft Tacos                          55\n",
            "6 Pack Soft Drink                         54\n",
            "Chips and Tomatillo Red Chili Salsa       48\n",
            "Chicken Crispy Tacos                      47\n",
            "Chips and Tomatillo Green Chili Salsa     43\n",
            "Carnitas Soft Tacos                       40\n",
            "Steak Crispy Tacos                        35\n",
            "Chips and Tomatillo-Green Chili Salsa     31\n",
            "Steak Salad Bowl                          29\n",
            "Nantucket Nectar                          27\n",
            "Barbacoa Soft Tacos                       25\n",
            "Chips and Roasted Chili Corn Salsa        22\n",
            "Chips and Tomatillo-Red Chili Salsa       20\n",
            "Izze                                      20\n",
            "Chips and Roasted Chili-Corn Salsa        18\n",
            "Veggie Salad Bowl                         18\n",
            "Barbacoa Crispy Tacos                     11\n",
            "Barbacoa Salad Bowl                       10\n",
            "Chicken Salad                              9\n",
            "Carnitas Crispy Tacos                      7\n",
            "Veggie Soft Tacos                          7\n",
            "Burrito                                    6\n",
            "Veggie Salad                               6\n",
            "Carnitas Salad Bowl                        6\n",
            "Steak Salad                                4\n",
            "Crispy Tacos                               2\n",
            "Salad                                      2\n",
            "Bowl                                       2\n",
            "Veggie Crispy Tacos                        1\n",
            "Carnitas Salad                             1\n",
            "Chips and Mild Fresh Tomato Salsa          1\n",
            "Name: item_name, dtype: int64\n",
            "50\n"
          ],
          "name": "stdout"
        }
      ]
    }
  ]
}