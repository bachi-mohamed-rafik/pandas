{
  "nbformat": 4,
  "nbformat_minor": 0,
  "metadata": {
    "colab": {
      "name": "US Baby Names.ipynb",
      "provenance": [],
      "collapsed_sections": [],
      "authorship_tag": "ABX9TyOwqpehzPldb/xYjS53pXNv",
      "include_colab_link": true
    },
    "kernelspec": {
      "name": "python3",
      "display_name": "Python 3"
    }
  },
  "cells": [
    {
      "cell_type": "markdown",
      "metadata": {
        "id": "view-in-github",
        "colab_type": "text"
      },
      "source": [
        "<a href=\"https://colab.research.google.com/github/bachi-mohamed-rafik/pandas/blob/main/US_Baby_Names.ipynb\" target=\"_parent\"><img src=\"https://colab.research.google.com/assets/colab-badge.svg\" alt=\"Open In Colab\"/></a>"
      ]
    },
    {
      "cell_type": "markdown",
      "metadata": {
        "id": "MeFjiRj81wJI"
      },
      "source": [
        "#US Baby Names"
      ]
    },
    {
      "cell_type": "code",
      "metadata": {
        "colab": {
          "base_uri": "https://localhost:8080/"
        },
        "id": "JqkozYl01uR9",
        "outputId": "83312eb0-75c5-41c8-8508-03b80f4e8429"
      },
      "source": [
        "import pandas as pd\r\n",
        "baby_names=pd.read_csv(\"https://raw.githubusercontent.com/guipsamora/pandas_exercises/master/06_Stats/US_Baby_Names/US_Baby_Names_right.csv\",sep=',')\r\n",
        "print(baby_names)"
      ],
      "execution_count": 2,
      "outputs": [
        {
          "output_type": "stream",
          "text": [
            "         Unnamed: 0       Id     Name  Year Gender State  Count\n",
            "0             11349    11350     Emma  2004      F    AK     62\n",
            "1             11350    11351  Madison  2004      F    AK     48\n",
            "2             11351    11352   Hannah  2004      F    AK     46\n",
            "3             11352    11353    Grace  2004      F    AK     44\n",
            "4             11353    11354    Emily  2004      F    AK     41\n",
            "...             ...      ...      ...   ...    ...   ...    ...\n",
            "1016390     5647421  5647422     Seth  2014      M    WY      5\n",
            "1016391     5647422  5647423  Spencer  2014      M    WY      5\n",
            "1016392     5647423  5647424     Tyce  2014      M    WY      5\n",
            "1016393     5647424  5647425   Victor  2014      M    WY      5\n",
            "1016394     5647425  5647426   Waylon  2014      M    WY      5\n",
            "\n",
            "[1016395 rows x 7 columns]\n"
          ],
          "name": "stdout"
        }
      ]
    },
    {
      "cell_type": "code",
      "metadata": {
        "colab": {
          "base_uri": "https://localhost:8080/"
        },
        "id": "iHQ40iwA2JRK",
        "outputId": "1de1f22f-ac1d-4858-8b65-5b6d10d03962"
      },
      "source": [
        "# See the first 10 entries\r\n",
        "print(\"See the first 10 entries :\")\r\n",
        "print(baby_names.head(10))"
      ],
      "execution_count": 3,
      "outputs": [
        {
          "output_type": "stream",
          "text": [
            "See the first 10 entries :\n",
            "   Unnamed: 0     Id      Name  Year Gender State  Count\n",
            "0       11349  11350      Emma  2004      F    AK     62\n",
            "1       11350  11351   Madison  2004      F    AK     48\n",
            "2       11351  11352    Hannah  2004      F    AK     46\n",
            "3       11352  11353     Grace  2004      F    AK     44\n",
            "4       11353  11354     Emily  2004      F    AK     41\n",
            "5       11354  11355   Abigail  2004      F    AK     37\n",
            "6       11355  11356    Olivia  2004      F    AK     33\n",
            "7       11356  11357  Isabella  2004      F    AK     30\n",
            "8       11357  11358    Alyssa  2004      F    AK     29\n",
            "9       11358  11359    Sophia  2004      F    AK     28\n"
          ],
          "name": "stdout"
        }
      ]
    },
    {
      "cell_type": "code",
      "metadata": {
        "colab": {
          "base_uri": "https://localhost:8080/"
        },
        "id": "UnA6bTTm2lBN",
        "outputId": "0ee99e62-b90c-4f54-99a0-b6802cf1a2ad"
      },
      "source": [
        "# Delete the column 'Unnamed: 0' and 'Id'\r\n",
        "print(\"Delete the column 'Unnamed: 0' and 'Id' :\")\r\n",
        "# del baby_names['Unnamed: 0']\r\n",
        "# del baby_names['Id']\r\n",
        "baby_names = baby_names.loc[:, ~baby_names.columns.str.contains('^Unnamed')]\r\n",
        "# Is there more male or female names in the dataset?\r\n",
        "print(\"Is there more male or female names in the dataset :\")\r\n",
        "baby_names['Gender'].value_counts()\r\n",
        "print(baby_names.sort_values(\"Count\", ascending = 0).head())\r\n",
        "# Group the dataset by name and assign to names\r\n",
        "print(\"Group the dataset by name and assign to names :\")\r\n",
        "names=baby_names.groupby(baby_names['Name'])"
      ],
      "execution_count": 9,
      "outputs": [
        {
          "output_type": "stream",
          "text": [
            "Delete the column 'Unnamed: 0' and 'Id' :\n",
            "Is there more male or female names in the dataset :\n",
            "           Name  Year Gender State  Count\n",
            "107416   Daniel  2004      M    CA   4167\n",
            "110097   Daniel  2005      M    CA   3914\n",
            "115739   Daniel  2007      M    CA   3865\n",
            "112872   Daniel  2006      M    CA   3826\n",
            "107417  Anthony  2004      M    CA   3805\n",
            "Group the dataset by name and assign to names :\n",
            "17632\n"
          ],
          "name": "stdout"
        }
      ]
    },
    {
      "cell_type": "code",
      "metadata": {
        "colab": {
          "base_uri": "https://localhost:8080/"
        },
        "id": "1qW7R9Zp5FhR",
        "outputId": "7f748f20-f328-4240-9c11-8fcbe4b811e5"
      },
      "source": [
        "# How many different names exist in the dataset?\r\n",
        "print(len(names))\r\n",
        "print(\"How many different names exist in the dataset :\")\r\n",
        "print (C.value_counts())"
      ],
      "execution_count": 10,
      "outputs": [
        {
          "output_type": "stream",
          "text": [
            "17632\n",
            "How many different names exist in the dataset :\n",
            "Riley      1112\n",
            "Avery      1080\n",
            "Jordan     1073\n",
            "Peyton     1064\n",
            "Hayden     1049\n",
            "           ... \n",
            "Jocilyn       1\n",
            "Melea         1\n",
            "Ishrat        1\n",
            "Drayson       1\n",
            "Azavion       1\n",
            "Name: Name, Length: 17632, dtype: int64\n"
          ],
          "name": "stdout"
        }
      ]
    }
  ]
}