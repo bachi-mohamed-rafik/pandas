{
  "nbformat": 4,
  "nbformat_minor": 0,
  "metadata": {
    "colab": {
      "name": "Sorting_chipotle.ipynb",
      "provenance": [],
      "collapsed_sections": [],
      "authorship_tag": "ABX9TyNHJKkiwS/gopGL7CSBd5pI",
      "include_colab_link": true
    },
    "kernelspec": {
      "name": "python3",
      "display_name": "Python 3"
    }
  },
  "cells": [
    {
      "cell_type": "markdown",
      "metadata": {
        "id": "view-in-github",
        "colab_type": "text"
      },
      "source": [
        "<a href=\"https://colab.research.google.com/github/bachi-mohamed-rafik/pandas/blob/main/Sorting_chipotle.ipynb\" target=\"_parent\"><img src=\"https://colab.research.google.com/assets/colab-badge.svg\" alt=\"Open In Colab\"/></a>"
      ]
    },
    {
      "cell_type": "markdown",
      "metadata": {
        "id": "nMEZdq26Uy6t"
      },
      "source": [
        "#Sorting chipotle\r\n"
      ]
    },
    {
      "cell_type": "code",
      "metadata": {
        "id": "OVVz-VGrUvB3"
      },
      "source": [
        "import pandas as pd\r\n",
        "\r\n",
        "url=\"https://raw.githubusercontent.com/justmarkham/DAT8/master/data/chipotle.tsv\"\r\n",
        "chipo=pd.read_csv(url ,sep='\\t')\r\n"
      ],
      "execution_count": 1,
      "outputs": []
    },
    {
      "cell_type": "code",
      "metadata": {
        "colab": {
          "base_uri": "https://localhost:8080/"
        },
        "id": "CuRt-iV4UylI",
        "outputId": "40412d79-171a-421c-8e50-8e200ae3f3eb"
      },
      "source": [
        "# What is the price of each item?\r\n",
        "print(\"The price of each item :\")\r\n",
        "\r\n",
        "col1_list = chipo['item_name'].tolist()\r\n",
        "col2_list = chipo['item_price'].tolist()\r\n",
        "\r\n",
        "cars = {'item_name': col1_list,\r\n",
        "        'item_price': col2_list\r\n",
        "        }\r\n",
        "\r\n",
        "df = pd.DataFrame(cars, columns = ['item_name', 'item_price'])\r\n",
        "\r\n",
        "print (df)\r\n"
      ],
      "execution_count": 2,
      "outputs": [
        {
          "output_type": "stream",
          "text": [
            "The price of each item :\n",
            "                                  item_name item_price\n",
            "0              Chips and Fresh Tomato Salsa     $2.39 \n",
            "1                                      Izze     $3.39 \n",
            "2                          Nantucket Nectar     $3.39 \n",
            "3     Chips and Tomatillo-Green Chili Salsa     $2.39 \n",
            "4                              Chicken Bowl    $16.98 \n",
            "...                                     ...        ...\n",
            "4617                          Steak Burrito    $11.75 \n",
            "4618                          Steak Burrito    $11.75 \n",
            "4619                     Chicken Salad Bowl    $11.25 \n",
            "4620                     Chicken Salad Bowl     $8.75 \n",
            "4621                     Chicken Salad Bowl     $8.75 \n",
            "\n",
            "[4622 rows x 2 columns]\n"
          ],
          "name": "stdout"
        }
      ]
    },
    {
      "cell_type": "code",
      "metadata": {
        "colab": {
          "base_uri": "https://localhost:8080/"
        },
        "id": "SaaaeS8iVNfn",
        "outputId": "d5943622-4594-4a48-e64a-dce4c3fabe58"
      },
      "source": [
        "# Sort by the name of the item\r\n",
        "print(\"Sort by the name of the item :\")\r\n",
        "result = df.sort_values(by=['item_name'])\r\n",
        "#df['item_name'].sort_value()\r\n",
        "print(result)"
      ],
      "execution_count": 3,
      "outputs": [
        {
          "output_type": "stream",
          "text": [
            "Sort by the name of the item :\n",
            "              item_name item_price\n",
            "3389  6 Pack Soft Drink    $12.98 \n",
            "341   6 Pack Soft Drink     $6.49 \n",
            "1849  6 Pack Soft Drink     $6.49 \n",
            "1860  6 Pack Soft Drink     $6.49 \n",
            "2713  6 Pack Soft Drink     $6.49 \n",
            "...                 ...        ...\n",
            "2384  Veggie Soft Tacos     $8.75 \n",
            "781   Veggie Soft Tacos     $8.75 \n",
            "2851  Veggie Soft Tacos     $8.49 \n",
            "1699  Veggie Soft Tacos    $11.25 \n",
            "1395  Veggie Soft Tacos     $8.49 \n",
            "\n",
            "[4622 rows x 2 columns]\n"
          ],
          "name": "stdout"
        }
      ]
    },
    {
      "cell_type": "code",
      "metadata": {
        "colab": {
          "base_uri": "https://localhost:8080/"
        },
        "id": "Ph6a1MsTVPPz",
        "outputId": "80c416a1-aca0-4e80-c941-5bfc271f95b7"
      },
      "source": [
        "# What was the quantity of the most expensive item ordered?\r\n",
        "print(\"The quantity of the most expensive item ordered :\")\r\n",
        "\r\n",
        "col1_list = chipo['item_name'].tolist()\r\n",
        "col2_list = chipo['item_price'].tolist()\r\n",
        "col3_list = chipo['quantity'].tolist()\r\n",
        "\r\n",
        "cars = {'item_name': col1_list,\r\n",
        "        'item_price': col2_list,\r\n",
        "        'quantity': col3_list\r\n",
        "        }\r\n",
        "\r\n",
        "f = pd.DataFrame(cars, columns = ['item_name', 'item_price','quantity'])\r\n",
        "\r\n",
        "\r\n",
        "f['item_price'] = f['item_price'].map(lambda x: x.lstrip('$'))\r\n",
        "f['item_price'] = f['item_price'].astype({\"item_price\": float})\r\n",
        "t=f['item_price'].max()\r\n",
        "v=f.loc[f['item_price'] == t]\r\n",
        "print(v['quantity'])"
      ],
      "execution_count": 4,
      "outputs": [
        {
          "output_type": "stream",
          "text": [
            "The quantity of the most expensive item ordered :\n",
            "3598    15\n",
            "Name: quantity, dtype: int64\n"
          ],
          "name": "stdout"
        }
      ]
    },
    {
      "cell_type": "code",
      "metadata": {
        "colab": {
          "base_uri": "https://localhost:8080/"
        },
        "id": "cdp-3639VUrA",
        "outputId": "a7383a55-06df-45a4-df9d-6c9a9404b183"
      },
      "source": [
        "# How many times was a Veggie Salad Bowl ordered?\r\n",
        "print(\"How many times was a Veggie Salad Bowl ordered :\")\r\n",
        "items  = chipo.item_name.value_counts()\r\n",
        "\r\n",
        "v=f.loc[f['item_name'] == \"Veggie Salad Bowl\"]\r\n",
        "print(len(v. index))\r\n",
        "\r\n",
        "\r\n",
        "# How many times did someone order more than one Canned Soda?\r\n",
        "print(\"How many times did someone order more than one Canned Soda:\")\r\n",
        "\r\n",
        "va=chipo[(chipo.item_name==\"Canned Soda\")&(chipo.quantity>1)]\r\n",
        "\r\n",
        "print(len(va))\r\n"
      ],
      "execution_count": 5,
      "outputs": [
        {
          "output_type": "stream",
          "text": [
            "How many times was a Veggie Salad Bowl ordered :\n",
            "18\n",
            "How many times did someone order more than one Canned Soda:\n",
            "20\n"
          ],
          "name": "stdout"
        }
      ]
    }
  ]
}