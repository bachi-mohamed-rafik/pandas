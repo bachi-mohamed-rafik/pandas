{
  "nbformat": 4,
  "nbformat_minor": 0,
  "metadata": {
    "colab": {
      "name": "Pokemon.ipynb",
      "provenance": [],
      "collapsed_sections": [],
      "authorship_tag": "ABX9TyMitYyig2sGIIYjycR8kQXr",
      "include_colab_link": true
    },
    "kernelspec": {
      "name": "python3",
      "display_name": "Python 3"
    }
  },
  "cells": [
    {
      "cell_type": "markdown",
      "metadata": {
        "id": "view-in-github",
        "colab_type": "text"
      },
      "source": [
        "<a href=\"https://colab.research.google.com/github/bachi-mohamed-rafik/pandas/blob/main/Pokemon.ipynb\" target=\"_parent\"><img src=\"https://colab.research.google.com/assets/colab-badge.svg\" alt=\"Open In Colab\"/></a>"
      ]
    },
    {
      "cell_type": "markdown",
      "metadata": {
        "id": "M9rI7zBdRINY"
      },
      "source": [
        "#Pokemon"
      ]
    },
    {
      "cell_type": "code",
      "metadata": {
        "colab": {
          "base_uri": "https://localhost:8080/"
        },
        "id": "lpMpUsrjRDdv",
        "outputId": "d8cd715e-7b29-467f-971d-f10f46a3bdcf"
      },
      "source": [
        "import pandas as pd\r\n",
        "\r\n",
        "data={'evolution':['Ivysaur','Charmeleon','Wartortle','Metapod'],'hp':[45,39,44,45],'name':['Bulbasaur','Charmander','Squirtle','Caterpie'],'pokedex':['yes','no','yes','no'],'type':['grass','fire','water','bug']}\r\n",
        "pokemon=pd.DataFrame(data,columns=['evolution','hp','name','pokedex','type'])\r\n",
        "\r\n",
        "print(pokemon.head(10))"
      ],
      "execution_count": 1,
      "outputs": [
        {
          "output_type": "stream",
          "text": [
            "    evolution  hp        name pokedex   type\n",
            "0     Ivysaur  45   Bulbasaur     yes  grass\n",
            "1  Charmeleon  39  Charmander      no   fire\n",
            "2   Wartortle  44    Squirtle     yes  water\n",
            "3     Metapod  45    Caterpie      no    bug\n"
          ],
          "name": "stdout"
        }
      ]
    },
    {
      "cell_type": "code",
      "metadata": {
        "colab": {
          "base_uri": "https://localhost:8080/"
        },
        "id": "ojYVbgyHRNhv",
        "outputId": "7f5825df-957d-4d66-c481-49e1b3af1e07"
      },
      "source": [
        "# Ops...it seems the DataFrame columns are in alphabetical order. Place the order of the columns as name, type, hp, evolution, pokedex\r\n",
        "print(\"Place the order of the columns as name, type, hp, evolution, pokedex:\") \r\n",
        "pokemon=pd.DataFrame(data,columns=['name', 'type',' hp', 'evolution', 'pokedex'])\r\n",
        "\r\n",
        "print(pokemon)"
      ],
      "execution_count": 2,
      "outputs": [
        {
          "output_type": "stream",
          "text": [
            "Place the order of the columns as name, type, hp, evolution, pokedex:\n",
            "         name   type   hp   evolution pokedex\n",
            "0   Bulbasaur  grass  NaN     Ivysaur     yes\n",
            "1  Charmander   fire  NaN  Charmeleon      no\n",
            "2    Squirtle  water  NaN   Wartortle     yes\n",
            "3    Caterpie    bug  NaN     Metapod      no\n"
          ],
          "name": "stdout"
        }
      ]
    },
    {
      "cell_type": "code",
      "metadata": {
        "colab": {
          "base_uri": "https://localhost:8080/"
        },
        "id": "-s6BScNDRSsf",
        "outputId": "e01c05cd-fcfa-49a6-ce79-858d78989823"
      },
      "source": [
        "# Add another column called place, and insert what you have in mind.\r\n",
        "print(\"Add another column called place, and insert what you have in mind:\")\r\n",
        "\r\n",
        "pokemon['place']=['park','street','lake','forest']\r\n",
        "print(pokemon.columns)"
      ],
      "execution_count": 3,
      "outputs": [
        {
          "output_type": "stream",
          "text": [
            "Add another column called place, and insert what you have in mind:\n",
            "Index(['name', 'type', ' hp', 'evolution', 'pokedex', 'place'], dtype='object')\n"
          ],
          "name": "stdout"
        }
      ]
    },
    {
      "cell_type": "code",
      "metadata": {
        "colab": {
          "base_uri": "https://localhost:8080/"
        },
        "id": "8dLAQUIVRVjZ",
        "outputId": "200bfdee-e723-4a23-c742-983e61943a7e"
      },
      "source": [
        "# Present the type of each column\r\n",
        "print(\"Present the type of each column:\")\r\n",
        "print(pokemon.dtypes)"
      ],
      "execution_count": 4,
      "outputs": [
        {
          "output_type": "stream",
          "text": [
            "Present the type of each column:\n",
            "name         object\n",
            "type         object\n",
            " hp          object\n",
            "evolution    object\n",
            "pokedex      object\n",
            "place        object\n",
            "dtype: object\n"
          ],
          "name": "stdout"
        }
      ]
    }
  ]
}