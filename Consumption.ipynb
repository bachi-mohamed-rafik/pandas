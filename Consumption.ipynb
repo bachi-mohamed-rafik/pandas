{
  "nbformat": 4,
  "nbformat_minor": 0,
  "metadata": {
    "colab": {
      "name": "Consumption.ipynb",
      "provenance": [],
      "collapsed_sections": [],
      "authorship_tag": "ABX9TyMkdVO3YlTXxeNcwDtTqq6O",
      "include_colab_link": true
    },
    "kernelspec": {
      "name": "python3",
      "display_name": "Python 3"
    }
  },
  "cells": [
    {
      "cell_type": "markdown",
      "metadata": {
        "id": "view-in-github",
        "colab_type": "text"
      },
      "source": [
        "<a href=\"https://colab.research.google.com/github/bachi-mohamed-rafik/pandas/blob/main/Consumption.ipynb\" target=\"_parent\"><img src=\"https://colab.research.google.com/assets/colab-badge.svg\" alt=\"Open In Colab\"/></a>"
      ]
    },
    {
      "cell_type": "markdown",
      "metadata": {
        "id": "iJBvgy2nbKUN"
      },
      "source": [
        "# Consumption"
      ]
    },
    {
      "cell_type": "code",
      "metadata": {
        "colab": {
          "base_uri": "https://localhost:8080/"
        },
        "id": "Pe7KfH2PbJW2",
        "outputId": "b6153040-92bd-471d-d842-3c86d4f6b1a4"
      },
      "source": [
        "import pandas as pd\r\n",
        "url=\"https://raw.githubusercontent.com/justmarkham/DAT8/master/data/drinks.csv\"\r\n",
        "drinks=pd.read_csv(url, sep=',')\r\n",
        "\r\n",
        "\r\n",
        "n=drinks.drop_duplicates(subset=['continent'])\r\n",
        "#print(n['continent'])\r\n",
        "\r\n",
        "AS=[]\r\n",
        "\r\n",
        "x1=drinks[drinks.continent==\"AS\"]\r\n",
        "px1=x1[\"beer_servings\"]\r\n",
        "AS.append(px1.sum())\r\n",
        "\r\n",
        "x2=drinks[drinks.continent==\"AS\"]\r\n",
        "px2=x2[\"spirit_servings\"]\r\n",
        "AS.append(px2.sum())\r\n",
        "\r\n",
        "x3=drinks[drinks.continent==\"AS\"]\r\n",
        "px3=x3[\"wine_servings\"]\r\n",
        "AS.append(px3.sum())\r\n",
        "\r\n",
        "x4=drinks[drinks.continent==\"AS\"]\r\n",
        "px4=x4[\"total_litres_of_pure_alcohol\"]\r\n",
        "AS.append(px4.sum())\r\n",
        "print(AS)\r\n",
        "ASAV=sum(AS)/len(AS)\r\n",
        "print(ASAV)\r\n",
        "\r\n",
        "\r\n",
        "EU=[]\r\n",
        "\r\n",
        "x1=drinks[drinks.continent==\"EU\"]\r\n",
        "px1=x1[\"beer_servings\"]\r\n",
        "EU.append(px1.sum())\r\n",
        "\r\n",
        "x2=drinks[drinks.continent==\"EU\"]\r\n",
        "px2=x2[\"spirit_servings\"]\r\n",
        "EU.append(px2.sum())\r\n",
        "\r\n",
        "x3=drinks[drinks.continent==\"EU\"]\r\n",
        "px3=x3[\"wine_servings\"]\r\n",
        "EU.append(px3.sum())\r\n",
        "\r\n",
        "x4=drinks[drinks.continent==\"EU\"]\r\n",
        "px4=x4[\"total_litres_of_pure_alcohol\"]\r\n",
        "EU.append(px4.sum())\r\n",
        "print(EU)\r\n",
        "EUAV=sum(EU)/len(EU)\r\n",
        "print(EUAV)\r\n",
        "\r\n",
        "\r\n",
        "\r\n",
        "AF=[]\r\n",
        "\r\n",
        "x1=drinks[drinks.continent==\"AF\"]\r\n",
        "px1=x1[\"beer_servings\"]\r\n",
        "AF.append(px1.sum())\r\n",
        "\r\n",
        "x2=drinks[drinks.continent==\"AF\"]\r\n",
        "px2=x2[\"spirit_servings\"]\r\n",
        "AF.append(px2.sum())\r\n",
        "\r\n",
        "x3=drinks[drinks.continent==\"AF\"]\r\n",
        "px3=x3[\"wine_servings\"]\r\n",
        "AF.append(px3.sum())\r\n",
        "\r\n",
        "x4=drinks[drinks.continent==\"AF\"]\r\n",
        "px4=x4[\"total_litres_of_pure_alcohol\"]\r\n",
        "AF.append(px4.sum())\r\n",
        "print(AF)\r\n",
        "AFAV=sum(AF)/len(AF)\r\n",
        "print(AFAV)\r\n",
        "\r\n",
        "\r\n",
        "NA=[]\r\n",
        "\r\n",
        "x1=drinks[drinks.continent==\"NA\"]\r\n",
        "px1=x1[\"beer_servings\"]\r\n",
        "NA.append(px1.sum())\r\n",
        "\r\n",
        "x2=drinks[drinks.continent==\"NA\"]\r\n",
        "px2=x2[\"spirit_servings\"]\r\n",
        "NA.append(px2.sum())\r\n",
        "\r\n",
        "x3=drinks[drinks.continent==\"NA\"]\r\n",
        "px3=x3[\"wine_servings\"]\r\n",
        "NA.append(px3.sum())\r\n",
        "\r\n",
        "x4=drinks[drinks.continent==\"NA\"]\r\n",
        "px4=x4[\"total_litres_of_pure_alcohol\"]\r\n",
        "NA.append(px4.sum())\r\n",
        "print(NA)\r\n",
        "NAAV=sum(NA)/len(NA)\r\n",
        "print(NAAV)\r\n",
        "\r\n",
        "\r\n",
        "\r\n",
        "OC=[]\r\n",
        "\r\n",
        "x1=drinks[drinks.continent==\"OC\"]\r\n",
        "px1=x1[\"beer_servings\"]\r\n",
        "OC.append(px1.sum())\r\n",
        "\r\n",
        "x2=drinks[drinks.continent==\"OC\"]\r\n",
        "px2=x2[\"spirit_servings\"]\r\n",
        "OC.append(px2.sum())\r\n",
        "\r\n",
        "x3=drinks[drinks.continent==\"OC\"]\r\n",
        "px3=x3[\"wine_servings\"]\r\n",
        "OC.append(px3.sum())\r\n",
        "\r\n",
        "x4=drinks[drinks.continent==\"OC\"]\r\n",
        "px4=x4[\"total_litres_of_pure_alcohol\"]\r\n",
        "OC.append(px4.sum())\r\n",
        "print(OC)\r\n",
        "OCAV=sum(OC)/len(OC)\r\n",
        "print(OCAV)\r\n",
        "\r\n",
        "\r\n",
        "SA=[]\r\n",
        "\r\n",
        "x1=drinks[drinks.continent==\"SA\"]\r\n",
        "px1=x1[\"beer_servings\"]\r\n",
        "SA.append(px1.sum())\r\n",
        "\r\n",
        "x2=drinks[drinks.continent==\"SA\"]\r\n",
        "px2=x2[\"spirit_servings\"]\r\n",
        "SA.append(px2.sum())\r\n",
        "\r\n",
        "x3=drinks[drinks.continent==\"SA\"]\r\n",
        "px3=x3[\"wine_servings\"]\r\n",
        "SA.append(px3.sum())\r\n",
        "\r\n",
        "x4=drinks[drinks.continent==\"SA\"]\r\n",
        "px4=x4[\"total_litres_of_pure_alcohol\"]\r\n",
        "SA.append(px4.sum())\r\n",
        "print(SA)\r\n",
        "SAAV=sum(SA)/len(SA)\r\n",
        "print(SAAV)"
      ],
      "execution_count": 1,
      "outputs": [
        {
          "output_type": "stream",
          "text": [
            "[1630, 2677, 399, 95.49999999999999]\n",
            "1200.375\n",
            "[8720, 5965, 6400, 387.7999999999999]\n",
            "5368.2\n",
            "[3258, 866, 862, 159.4]\n",
            "1286.35\n",
            "[0, 0, 0, 0.0]\n",
            "0.0\n",
            "[1435, 935, 570, 54.099999999999994]\n",
            "748.525\n",
            "[2101, 1377, 749, 75.7]\n",
            "1075.675\n"
          ],
          "name": "stdout"
        }
      ]
    },
    {
      "cell_type": "code",
      "metadata": {
        "colab": {
          "base_uri": "https://localhost:8080/"
        },
        "id": "u5-c3NEBboxU",
        "outputId": "1af6438d-199b-4323-a9f2-9c55a529382e"
      },
      "source": [
        "# Which continent drinks more beer on average?\r\n",
        "print(\"Which continent drinks more beer on average :\")\r\n",
        "m=max(ASAV,EUAV,AFAV,NAAV,SAAV,OCAV)\r\n",
        "print(m)\r\n",
        "\r\n",
        "var = {ASAV:\"ASAV\",EUAV:\"EUAV\",AFAV:\"AFAV\",NAAV:\"NAAV\",SAAV:\"SAAV\",OCAV:\"OCAV\"}\r\n",
        "max(var)\r\n",
        "\r\n",
        "print( var.get(max(var)))"
      ],
      "execution_count": 2,
      "outputs": [
        {
          "output_type": "stream",
          "text": [
            "Which continent drinks more beer on average :\n",
            "5368.2\n",
            "EUAV\n"
          ],
          "name": "stdout"
        }
      ]
    },
    {
      "cell_type": "code",
      "metadata": {
        "colab": {
          "base_uri": "https://localhost:8080/"
        },
        "id": "bYAIKzaqbqro",
        "outputId": "7defc9c2-bcbe-437d-e265-797880bf0eb6"
      },
      "source": [
        "# For each continent print the statistics for wine consumption.\r\n",
        "print(\"For each continent print the statistics for wine consumption:\")\r\n",
        "\r\n",
        "\r\n",
        "#\r\n",
        "raw_data = {'continent': ['AS','EU','AF','NA','OC','SA'],\r\n",
        "            'beer_servings': [AS[0], EU[0], AF[0], NA[0], OC[0], SA[0]],\r\n",
        "            'spirit_servings': [AS[1], EU[1], AF[1], NA[1], OC[1], SA[1]],\r\n",
        "            'wine_servings': [AS[2], EU[2], AF[2], NA[2], OC[2], SA[2]],\r\n",
        "            'total_litres_of_pure_alcohol': [AS[3], EU[3], AF[3], NA[3], OC[3], SA[3]]\r\n",
        "            }\r\n",
        "\r\n",
        "\r\n",
        "cont_stat=pd.DataFrame(raw_data, columns = ['continent','beer_servings','spirit_servings','wine_servings','total_litres_of_pure_alcohol'])\r\n",
        "print(cont_stat)"
      ],
      "execution_count": 3,
      "outputs": [
        {
          "output_type": "stream",
          "text": [
            "For each continent print the statistics for wine consumption:\n",
            "  continent  beer_servings  ...  wine_servings  total_litres_of_pure_alcohol\n",
            "0        AS           1630  ...            399                          95.5\n",
            "1        EU           8720  ...           6400                         387.8\n",
            "2        AF           3258  ...            862                         159.4\n",
            "3        NA              0  ...              0                           0.0\n",
            "4        OC           1435  ...            570                          54.1\n",
            "5        SA           2101  ...            749                          75.7\n",
            "\n",
            "[6 rows x 5 columns]\n"
          ],
          "name": "stdout"
        }
      ]
    },
    {
      "cell_type": "code",
      "metadata": {
        "colab": {
          "base_uri": "https://localhost:8080/"
        },
        "id": "rQ_arKDtb7TT",
        "outputId": "002afb12-3024-43fa-cc78-902c39ff733e"
      },
      "source": [
        "# Print the mean alcohol consumption per continent for every column\r\n",
        "print(\"Print the mean alcohol consumption per continent for every column :\")\r\n",
        "cont_stat['mean'] = cont_stat.mean(axis=1)\r\n",
        "print(cont_stat)\r\n",
        "\r\n",
        "\r\n",
        "# Print the median alcohol consumption per continent for every column\r\n",
        "print(\"Print the median alcohol consumption per continent for every column :\")\r\n",
        "cont_stat['median'] = cont_stat.median(axis=1)\r\n",
        "print(cont_stat)\r\n",
        "\r\n",
        "# Print the mean, min and max values for spirit consumption.\r\n",
        "print(\"Print the mean, min and max values for spirit consumption:\")\r\n",
        "\r\n",
        "m=[AS[1], EU[1], AF[1], NA[1], OC[1], SA[1]]\r\n",
        "me=sum(m) / len(m) \r\n",
        "print(me)\r\n",
        "\r\n",
        "ma=max(m)\r\n",
        "print(ma)\r\n",
        "\r\n",
        "mi=min(m)\r\n",
        "print(mi)\r\n",
        "\r\n",
        "\r\n",
        "\r\n",
        "\r\n",
        "\r\n",
        "raw_data = {'mean': [me],\r\n",
        "            'max': [ma],\r\n",
        "            'min': [mi]\r\n",
        "            }\r\n",
        "\r\n",
        "\r\n",
        "\r\n",
        "\r\n",
        "dv=pd.DataFrame(raw_data, columns = ['mean','max','min'])\r\n",
        "print(dv)"
      ],
      "execution_count": 4,
      "outputs": [
        {
          "output_type": "stream",
          "text": [
            "Print the mean alcohol consumption per continent for every column :\n",
            "  continent  beer_servings  ...  total_litres_of_pure_alcohol      mean\n",
            "0        AS           1630  ...                          95.5  1200.375\n",
            "1        EU           8720  ...                         387.8  5368.200\n",
            "2        AF           3258  ...                         159.4  1286.350\n",
            "3        NA              0  ...                           0.0     0.000\n",
            "4        OC           1435  ...                          54.1   748.525\n",
            "5        SA           2101  ...                          75.7  1075.675\n",
            "\n",
            "[6 rows x 6 columns]\n",
            "Print the median alcohol consumption per continent for every column :\n",
            "  continent  beer_servings  ...      mean    median\n",
            "0        AS           1630  ...  1200.375  1200.375\n",
            "1        EU           8720  ...  5368.200  5965.000\n",
            "2        AF           3258  ...  1286.350   866.000\n",
            "3        NA              0  ...     0.000     0.000\n",
            "4        OC           1435  ...   748.525   748.525\n",
            "5        SA           2101  ...  1075.675  1075.675\n",
            "\n",
            "[6 rows x 7 columns]\n",
            "Print the mean, min and max values for spirit consumption:\n",
            "1970.0\n",
            "5965\n",
            "0\n",
            "     mean   max  min\n",
            "0  1970.0  5965    0\n"
          ],
          "name": "stdout"
        }
      ]
    }
  ]
}