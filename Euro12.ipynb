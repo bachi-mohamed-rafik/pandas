{
  "nbformat": 4,
  "nbformat_minor": 0,
  "metadata": {
    "colab": {
      "name": "Euro12.ipynb",
      "provenance": [],
      "collapsed_sections": [],
      "authorship_tag": "ABX9TyNCz2m/p117iGrAPIZxlUYK",
      "include_colab_link": true
    },
    "kernelspec": {
      "name": "python3",
      "display_name": "Python 3"
    }
  },
  "cells": [
    {
      "cell_type": "markdown",
      "metadata": {
        "id": "view-in-github",
        "colab_type": "text"
      },
      "source": [
        "<a href=\"https://colab.research.google.com/github/bachi-mohamed-rafik/pandas/blob/main/Euro12.ipynb\" target=\"_parent\"><img src=\"https://colab.research.google.com/assets/colab-badge.svg\" alt=\"Open In Colab\"/></a>"
      ]
    },
    {
      "cell_type": "markdown",
      "metadata": {
        "id": "MExtbJ_AWKJ_"
      },
      "source": [
        "#Euro12"
      ]
    },
    {
      "cell_type": "code",
      "metadata": {
        "colab": {
          "base_uri": "https://localhost:8080/"
        },
        "id": "07cP3QEvWIx1",
        "outputId": "bd77e0e4-d56e-4eaf-f9e7-825d562e4e61"
      },
      "source": [
        "import pandas as pd\r\n",
        "import statistics\r\n",
        " \r\n",
        "url=\"https://raw.githubusercontent.com/guipsamora/pandas_exercises/master/02_Filtering_%26_Sorting/Euro12/Euro_2012_stats_TEAM.csv\"\r\n",
        "euro12=pd.read_csv(url ,sep=',')\r\n",
        "print(euro12)"
      ],
      "execution_count": 1,
      "outputs": [
        {
          "output_type": "stream",
          "text": [
            "                   Team  Goals  ...  Subs off  Players Used\n",
            "0               Croatia      4  ...         9            16\n",
            "1        Czech Republic      4  ...        11            19\n",
            "2               Denmark      4  ...         7            15\n",
            "3               England      5  ...        11            16\n",
            "4                France      3  ...        11            19\n",
            "5               Germany     10  ...        15            17\n",
            "6                Greece      5  ...        12            20\n",
            "7                 Italy      6  ...        18            19\n",
            "8           Netherlands      2  ...         7            15\n",
            "9                Poland      2  ...         7            17\n",
            "10             Portugal      6  ...        14            16\n",
            "11  Republic of Ireland      1  ...        10            17\n",
            "12               Russia      5  ...         7            16\n",
            "13                Spain     12  ...        17            18\n",
            "14               Sweden      5  ...         9            18\n",
            "15              Ukraine      2  ...         9            18\n",
            "\n",
            "[16 rows x 35 columns]\n"
          ],
          "name": "stdout"
        }
      ]
    },
    {
      "cell_type": "code",
      "metadata": {
        "colab": {
          "base_uri": "https://localhost:8080/"
        },
        "id": "6YsJdXXNWUE4",
        "outputId": "72f6f161-a0c5-41c5-a48c-1783c6b870ca"
      },
      "source": [
        "# Select only the Goal column\r\n",
        "print(\"Select only the Goal column\")\r\n",
        "c=euro12['Goals']\r\n",
        "print(c)"
      ],
      "execution_count": 2,
      "outputs": [
        {
          "output_type": "stream",
          "text": [
            "Select only the Goal column\n",
            "0      4\n",
            "1      4\n",
            "2      4\n",
            "3      5\n",
            "4      3\n",
            "5     10\n",
            "6      5\n",
            "7      6\n",
            "8      2\n",
            "9      2\n",
            "10     6\n",
            "11     1\n",
            "12     5\n",
            "13    12\n",
            "14     5\n",
            "15     2\n",
            "Name: Goals, dtype: int64\n"
          ],
          "name": "stdout"
        }
      ]
    },
    {
      "cell_type": "code",
      "metadata": {
        "colab": {
          "base_uri": "https://localhost:8080/"
        },
        "id": "wi_jQPEGWn13",
        "outputId": "57448edd-7902-4cce-a594-7bbabe084b0b"
      },
      "source": [
        "# How many team participated in the Euro2012\r\n",
        "print(\" How many team participated in the Euro2012\")\r\n",
        "print(euro12.shape[0])\r\n",
        "\r\n",
        "# What is the number of columns in the dataset?\r\n",
        "print(\"The number of columns in the dataset?\")\r\n",
        "print(len(euro12.columns))"
      ],
      "execution_count": 3,
      "outputs": [
        {
          "output_type": "stream",
          "text": [
            " How many team participated in the Euro2012\n",
            "16\n",
            "The number of columns in the dataset?\n",
            "35\n"
          ],
          "name": "stdout"
        }
      ]
    },
    {
      "cell_type": "code",
      "metadata": {
        "colab": {
          "base_uri": "https://localhost:8080/"
        },
        "id": "WraG12kPWpX2",
        "outputId": "3a68b8d7-810b-4948-e2f4-5b07193b0771"
      },
      "source": [
        "# View only the columns Team, Yellow Cards and Red Cards and assign them to a dataframe called discipline\r\n",
        "print(\"View only the columns Team, Yellow Cards and Red Cards and assign them to a dataframe called discipline:\")\r\n",
        "Yellow_Cards = euro12['Yellow Cards'].tolist()\r\n",
        "Red_Cards = euro12['Red Cards'].tolist()\r\n",
        "data= {'Yellow Cards':Yellow_Cards,\r\n",
        "       'Red Cards':Red_Cards\r\n",
        "}\r\n",
        "\r\n",
        "discipline=pd.DataFrame(data, columns = ['Yellow Cards','Red Cards'])\r\n",
        "print(discipline)"
      ],
      "execution_count": 4,
      "outputs": [
        {
          "output_type": "stream",
          "text": [
            "View only the columns Team, Yellow Cards and Red Cards and assign them to a dataframe called discipline:\n",
            "    Yellow Cards  Red Cards\n",
            "0              9          0\n",
            "1              7          0\n",
            "2              4          0\n",
            "3              5          0\n",
            "4              6          0\n",
            "5              4          0\n",
            "6              9          1\n",
            "7             16          0\n",
            "8              5          0\n",
            "9              7          1\n",
            "10            12          0\n",
            "11             6          1\n",
            "12             6          0\n",
            "13            11          0\n",
            "14             7          0\n",
            "15             5          0\n"
          ],
          "name": "stdout"
        }
      ]
    },
    {
      "cell_type": "code",
      "metadata": {
        "colab": {
          "base_uri": "https://localhost:8080/"
        },
        "id": "shyiQJU_Wxl6",
        "outputId": "6874f97f-2c8d-4dd9-c2b9-e18119e921f9"
      },
      "source": [
        "# Sort the teams by Red Cards, then to Yellow Cards\r\n",
        "print(\"Sort the teams by Red Cards:\")\r\n",
        "resultr = euro12.sort_values(by=['Red Cards'])\r\n",
        "print(resultr['Team'])\r\n",
        "print(\"Sort the teams by Yellow Cards:\")\r\n",
        "resulty = euro12.sort_values(by=['Yellow Cards'])\r\n",
        "print(resulty['Team'])\r\n",
        "\r\n",
        "# Calculate the mean Yellow Cards given per Team\r\n",
        "print(\"The mean Yellow Cards given per Team:\")\r\n",
        "myc=euro12['Yellow Cards']\r\n",
        "b =euro12['Yellow Cards'].tolist()\r\n",
        "print(statistics.mean(b))\r\n",
        "\r\n",
        "# Filter teams that scored more than 6 goals\r\n",
        "print(\"Filter teams that scored more than 6 goals:\")\r\n",
        "v=euro12[euro12.Goals>6]\r\n",
        "print(v['Team'])"
      ],
      "execution_count": 5,
      "outputs": [
        {
          "output_type": "stream",
          "text": [
            "Sort the teams by Red Cards:\n",
            "0                 Croatia\n",
            "1          Czech Republic\n",
            "2                 Denmark\n",
            "3                 England\n",
            "4                  France\n",
            "5                 Germany\n",
            "7                   Italy\n",
            "8             Netherlands\n",
            "10               Portugal\n",
            "12                 Russia\n",
            "13                  Spain\n",
            "14                 Sweden\n",
            "15                Ukraine\n",
            "6                  Greece\n",
            "9                  Poland\n",
            "11    Republic of Ireland\n",
            "Name: Team, dtype: object\n",
            "Sort the teams by Yellow Cards:\n",
            "2                 Denmark\n",
            "5                 Germany\n",
            "3                 England\n",
            "8             Netherlands\n",
            "15                Ukraine\n",
            "4                  France\n",
            "11    Republic of Ireland\n",
            "12                 Russia\n",
            "1          Czech Republic\n",
            "9                  Poland\n",
            "14                 Sweden\n",
            "0                 Croatia\n",
            "6                  Greece\n",
            "13                  Spain\n",
            "10               Portugal\n",
            "7                   Italy\n",
            "Name: Team, dtype: object\n",
            "The mean Yellow Cards given per Team:\n",
            "7.4375\n",
            "Filter teams that scored more than 6 goals:\n",
            "5     Germany\n",
            "13      Spain\n",
            "Name: Team, dtype: object\n"
          ],
          "name": "stdout"
        }
      ]
    },
    {
      "cell_type": "code",
      "metadata": {
        "colab": {
          "base_uri": "https://localhost:8080/"
        },
        "id": "rEHRiFtpWz3E",
        "outputId": "ce18b17a-1807-4f4a-b70a-cc0befc7d851"
      },
      "source": [
        "# Select the teams that start with G\r\n",
        "print(\"The teams that start with G:\")\r\n",
        "s = euro12.loc[euro12['Team'].str.startswith('G'), 'Team']\r\n",
        "print(s)\r\n",
        "\r\n",
        "# Select the first 7 columns\r\n",
        "print(\"The first 7 columns :\")\r\n",
        "print( euro12.columns[:7])\r\n",
        "\r\n",
        "# Select all columns except the last 3\r\n",
        "print(\"Select all columns except the last 3 :\")\r\n",
        "print(euro12.iloc[:,:-3])\r\n",
        "\r\n",
        "# Present only the Shooting Accuracy from England, Italy and Russia\r\n",
        "h=euro12.loc[euro12.Team.isin(['England','Italy','Russia']),['Team','Shooting Accuracy']]\r\n",
        "print(h)"
      ],
      "execution_count": 6,
      "outputs": [
        {
          "output_type": "stream",
          "text": [
            "The teams that start with G:\n",
            "5    Germany\n",
            "6     Greece\n",
            "Name: Team, dtype: object\n",
            "The first 7 columns :\n",
            "Index(['Team', 'Goals', 'Shots on target', 'Shots off target',\n",
            "       'Shooting Accuracy', '% Goals-to-shots', 'Total shots (inc. Blocked)'],\n",
            "      dtype='object')\n",
            "Select all columns except the last 3 :\n",
            "                   Team  Goals  ...  Yellow Cards  Red Cards\n",
            "0               Croatia      4  ...             9          0\n",
            "1        Czech Republic      4  ...             7          0\n",
            "2               Denmark      4  ...             4          0\n",
            "3               England      5  ...             5          0\n",
            "4                France      3  ...             6          0\n",
            "5               Germany     10  ...             4          0\n",
            "6                Greece      5  ...             9          1\n",
            "7                 Italy      6  ...            16          0\n",
            "8           Netherlands      2  ...             5          0\n",
            "9                Poland      2  ...             7          1\n",
            "10             Portugal      6  ...            12          0\n",
            "11  Republic of Ireland      1  ...             6          1\n",
            "12               Russia      5  ...             6          0\n",
            "13                Spain     12  ...            11          0\n",
            "14               Sweden      5  ...             7          0\n",
            "15              Ukraine      2  ...             5          0\n",
            "\n",
            "[16 rows x 32 columns]\n",
            "       Team Shooting Accuracy\n",
            "3   England             50.0%\n",
            "7     Italy             43.0%\n",
            "12   Russia             22.5%\n"
          ],
          "name": "stdout"
        }
      ]
    }
  ]
}