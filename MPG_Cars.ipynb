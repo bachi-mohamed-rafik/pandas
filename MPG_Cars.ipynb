{
  "nbformat": 4,
  "nbformat_minor": 0,
  "metadata": {
    "colab": {
      "name": "MPG Cars.ipynb",
      "provenance": [],
      "collapsed_sections": [],
      "authorship_tag": "ABX9TyNfTjxC8qDIpXJtn5xjgZkC",
      "include_colab_link": true
    },
    "kernelspec": {
      "name": "python3",
      "display_name": "Python 3"
    }
  },
  "cells": [
    {
      "cell_type": "markdown",
      "metadata": {
        "id": "view-in-github",
        "colab_type": "text"
      },
      "source": [
        "<a href=\"https://colab.research.google.com/github/bachi-mohamed-rafik/pandas/blob/main/MPG_Cars.ipynb\" target=\"_parent\"><img src=\"https://colab.research.google.com/assets/colab-badge.svg\" alt=\"Open In Colab\"/></a>"
      ]
    },
    {
      "cell_type": "code",
      "metadata": {
        "id": "DIKz3tAdyNGj"
      },
      "source": [
        "# MPG Cars"
      ],
      "execution_count": 8,
      "outputs": []
    },
    {
      "cell_type": "markdown",
      "metadata": {
        "id": "mxcVDKe9yzI7"
      },
      "source": [
        ""
      ]
    },
    {
      "cell_type": "code",
      "metadata": {
        "id": "6I4-QMzvy3Bw"
      },
      "source": [
        "import pandas as pd\r\n",
        "import numpy as np\r\n",
        "\r\n",
        "cars1 = pd.read_csv(\"https://raw.githubusercontent.com/guipsamora/pandas_exercises/master/05_Merge/Auto_MPG/cars1.csv\")\r\n",
        "cars2 = pd.read_csv(\"https://raw.githubusercontent.com/guipsamora/pandas_exercises/master/05_Merge/Auto_MPG/cars2.csv\")"
      ],
      "execution_count": 9,
      "outputs": []
    },
    {
      "cell_type": "code",
      "metadata": {
        "colab": {
          "base_uri": "https://localhost:8080/"
        },
        "id": "GSRkogZkzCTO",
        "outputId": "8b2a8c35-d421-4b6a-d7f2-2d27ed3a78df"
      },
      "source": [
        "# Oops, it seems our first dataset has some unnamed blank columns, fix cars1\r\n",
        "print(\"Oops, it seems our first dataset has some unnamed blank columns, fix cars1 :\")\r\n",
        "cars1=cars1.loc[:,'mpg':'car']\r\n",
        "print(cars1.head())"
      ],
      "execution_count": 10,
      "outputs": [
        {
          "output_type": "stream",
          "text": [
            "Oops, it seems our first dataset has some unnamed blank columns, fix cars1 :\n",
            "    mpg  cylinders  displacement  ... model  origin                        car\n",
            "0  18.0          8           307  ...    70       1  chevrolet chevelle malibu\n",
            "1  15.0          8           350  ...    70       1          buick skylark 320\n",
            "2  18.0          8           318  ...    70       1         plymouth satellite\n",
            "3  16.0          8           304  ...    70       1              amc rebel sst\n",
            "4  17.0          8           302  ...    70       1                ford torino\n",
            "\n",
            "[5 rows x 9 columns]\n"
          ],
          "name": "stdout"
        }
      ]
    },
    {
      "cell_type": "code",
      "metadata": {
        "colab": {
          "base_uri": "https://localhost:8080/"
        },
        "id": "bOIAeXvCzFFL",
        "outputId": "1f2b1378-3b2a-4f39-d9bb-560a2b630db9"
      },
      "source": [
        "# What is the number of observations in each dataset?\r\n",
        "print(\"The number of observations in each dataset :\")\r\n",
        "print(cars1.shape)\r\n",
        "print(cars2.shape)"
      ],
      "execution_count": 11,
      "outputs": [
        {
          "output_type": "stream",
          "text": [
            "The number of observations in each dataset :\n",
            "(198, 9)\n",
            "(200, 9)\n"
          ],
          "name": "stdout"
        }
      ]
    },
    {
      "cell_type": "code",
      "metadata": {
        "colab": {
          "base_uri": "https://localhost:8080/"
        },
        "id": "KuZl-69ozGcX",
        "outputId": "1fde82ac-ebca-43b0-85ea-7e191e27fd5f"
      },
      "source": [
        "# Join cars1 and cars2 into a single DataFrame called cars\r\n",
        "print(\"Join cars1 and cars2 into a single DataFrame called cars :\")\r\n",
        "cars=cars1.append(cars2)\r\n",
        "print(cars)"
      ],
      "execution_count": 12,
      "outputs": [
        {
          "output_type": "stream",
          "text": [
            "Join cars1 and cars2 into a single DataFrame called cars :\n",
            "      mpg  cylinders  displacement  ... model  origin                        car\n",
            "0    18.0          8           307  ...    70       1  chevrolet chevelle malibu\n",
            "1    15.0          8           350  ...    70       1          buick skylark 320\n",
            "2    18.0          8           318  ...    70       1         plymouth satellite\n",
            "3    16.0          8           304  ...    70       1              amc rebel sst\n",
            "4    17.0          8           302  ...    70       1                ford torino\n",
            "..    ...        ...           ...  ...   ...     ...                        ...\n",
            "195  27.0          4           140  ...    82       1            ford mustang gl\n",
            "196  44.0          4            97  ...    82       2                  vw pickup\n",
            "197  32.0          4           135  ...    82       1              dodge rampage\n",
            "198  28.0          4           120  ...    82       1                ford ranger\n",
            "199  31.0          4           119  ...    82       1                 chevy s-10\n",
            "\n",
            "[398 rows x 9 columns]\n"
          ],
          "name": "stdout"
        }
      ]
    },
    {
      "cell_type": "code",
      "metadata": {
        "colab": {
          "base_uri": "https://localhost:8080/"
        },
        "id": "H6DXttPazKYY",
        "outputId": "6f93c9d7-4aac-456c-c47b-d5c332c9552a"
      },
      "source": [
        "# Oops, there is a column missing, called owners. Create a random number Series from 15,000 to 73,000.\r\n",
        "print(\"Oops, there is a column missing, called owners. Create a random number Series from 15,000 to 73,000 :\")\r\n",
        "owners=np.random.randint(15000 ,high= 73001 ,size=398  )\r\n",
        "print(owners)\r\n",
        "\r\n",
        "\r\n",
        "cars['owners']=owners"
      ],
      "execution_count": 13,
      "outputs": [
        {
          "output_type": "stream",
          "text": [
            "Oops, there is a column missing, called owners. Create a random number Series from 15,000 to 73,000 :\n",
            "[46014 53363 49983 55140 36443 71313 20611 23927 29478 38264 21069 19223\n",
            " 41891 15398 52785 56359 23626 66130 57540 39780 15955 50005 28039 17938\n",
            " 68634 30259 17070 66408 26177 60345 37502 35769 50591 33453 43861 38037\n",
            " 43702 21991 70212 67595 45758 54081 39843 31584 35633 34765 56444 40531\n",
            " 49273 29273 50296 31751 16890 62321 37162 60512 65801 43752 27364 23071\n",
            " 47879 15026 62430 22072 56585 34150 23197 72818 16907 66544 71240 72486\n",
            " 17725 43502 18398 52236 30211 30705 32569 61711 44597 32812 25113 25507\n",
            " 47862 34993 60770 55116 41380 72668 27434 37823 51165 56658 35435 53629\n",
            " 35660 66579 31689 22835 28184 28427 67489 43593 31757 62338 18007 69138\n",
            " 44476 67225 31167 23614 28065 60181 24175 37120 16713 59772 34791 30154\n",
            " 15233 42100 29347 64885 43491 16637 32237 57584 66265 67333 31128 39286\n",
            " 39276 57207 49761 46636 24660 62064 53426 15709 19798 46750 16640 40628\n",
            " 48319 70932 19674 46751 26254 45692 68956 16800 18553 60585 40026 49292\n",
            " 62887 58267 37833 30389 52055 49368 25394 52872 67172 57311 42328 62567\n",
            " 65463 72565 69779 45102 67518 40229 58611 24037 34779 50579 61721 21789\n",
            " 40453 19908 17780 64032 63692 39669 25353 29065 70782 19943 43443 64556\n",
            " 45726 71034 66832 45778 63097 63497 54078 34760 46262 59097 64349 71657\n",
            " 41307 29386 71225 39113 24958 64725 35350 61230 33516 35515 50033 59028\n",
            " 59403 37920 43141 25840 33413 16487 69816 55308 50647 29326 66937 57783\n",
            " 27015 56227 47672 70803 38923 72950 50728 31377 63160 24828 23814 23865\n",
            " 40057 59164 26519 67840 26009 61827 49706 39746 22355 24106 30779 25610\n",
            " 68987 50368 16260 61017 16296 58369 23078 42793 44043 51556 37558 22002\n",
            " 44909 35275 17111 23075 32515 58227 72434 25634 64721 51704 66484 45143\n",
            " 27347 36990 39051 34346 54325 47114 35061 54682 49139 21280 23045 67307\n",
            " 42427 60712 51224 68369 47332 43929 31730 19259 61206 54041 46139 31759\n",
            " 70264 43870 50680 27563 18098 48190 46595 67607 55933 66881 49295 42412\n",
            " 47444 65599 30253 47580 49856 66013 25951 42738 20073 72038 56376 56101\n",
            " 58545 23535 40858 72566 22369 66044 22126 64698 30451 17049 29744 29786\n",
            " 67938 19546 28102 39436 28810 49164 53398 58336 40915 41785 48953 29364\n",
            " 57763 34678 19664 52980 19142 16518 50523 58305 17109 28528 43333 38443\n",
            " 46959 38333 39463 28627 39731 25669 29338 17250 25048 66703 72516 69837\n",
            " 41413 46304 34227 71153 59929 47839 49109 58480 39196 32319 39329 72256\n",
            " 27171 62792 40917 32287 15745 58098 47862 72613 33226 45696 61603 47307\n",
            " 23889 26027]\n"
          ],
          "name": "stdout"
        }
      ]
    }
  ]
}