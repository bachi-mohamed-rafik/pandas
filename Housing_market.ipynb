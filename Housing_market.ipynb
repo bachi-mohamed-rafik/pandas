{
  "nbformat": 4,
  "nbformat_minor": 0,
  "metadata": {
    "colab": {
      "name": "Housing market.ipynb",
      "provenance": [],
      "collapsed_sections": [],
      "authorship_tag": "ABX9TyOBTPVYGKIh3HiGULw/jgS/",
      "include_colab_link": true
    },
    "kernelspec": {
      "name": "python3",
      "display_name": "Python 3"
    }
  },
  "cells": [
    {
      "cell_type": "markdown",
      "metadata": {
        "id": "view-in-github",
        "colab_type": "text"
      },
      "source": [
        "<a href=\"https://colab.research.google.com/github/bachi-mohamed-rafik/pandas/blob/main/Housing_market.ipynb\" target=\"_parent\"><img src=\"https://colab.research.google.com/assets/colab-badge.svg\" alt=\"Open In Colab\"/></a>"
      ]
    },
    {
      "cell_type": "code",
      "metadata": {
        "id": "siubGzX51Izq"
      },
      "source": [
        "#Housing market"
      ],
      "execution_count": null,
      "outputs": []
    },
    {
      "cell_type": "code",
      "metadata": {
        "colab": {
          "base_uri": "https://localhost:8080/"
        },
        "id": "b7NqyUyI1MU7",
        "outputId": "8a5bef3c-b268-4b4b-ebb0-ac84fa914534"
      },
      "source": [
        "import pandas as pd\r\n",
        "import numpy as np\r\n",
        "\r\n",
        "# Let's create a DataFrame by joinning the Series by column\r\n",
        "print(\"Create a DataFrame by joinning the Series by column :\")\r\n",
        "ser1 = pd.Series(np.random.randint(1,5,size=100)) \r\n",
        "print(ser1) \r\n",
        "\r\n",
        "\r\n",
        "ser2 = pd.Series(np.random.randint(1,4,size=100)) \r\n",
        "print(ser2) \r\n",
        "\r\n",
        "\r\n",
        "ser3 = pd.Series(np.random.randint(10000,30001,size=100))  \r\n",
        "print(ser3) "
      ],
      "execution_count": 1,
      "outputs": [
        {
          "output_type": "stream",
          "text": [
            "Create a DataFrame by joinning the Series by column :\n",
            "0     4\n",
            "1     2\n",
            "2     3\n",
            "3     1\n",
            "4     1\n",
            "     ..\n",
            "95    2\n",
            "96    4\n",
            "97    2\n",
            "98    2\n",
            "99    4\n",
            "Length: 100, dtype: int64\n",
            "0     3\n",
            "1     3\n",
            "2     1\n",
            "3     3\n",
            "4     1\n",
            "     ..\n",
            "95    1\n",
            "96    3\n",
            "97    3\n",
            "98    2\n",
            "99    3\n",
            "Length: 100, dtype: int64\n",
            "0     20003\n",
            "1     23516\n",
            "2     12092\n",
            "3     28891\n",
            "4     22479\n",
            "      ...  \n",
            "95    26031\n",
            "96    28760\n",
            "97    15232\n",
            "98    29507\n",
            "99    19107\n",
            "Length: 100, dtype: int64\n"
          ],
          "name": "stdout"
        }
      ]
    },
    {
      "cell_type": "code",
      "metadata": {
        "colab": {
          "base_uri": "https://localhost:8080/"
        },
        "id": "MKVJn0Jf1Uub",
        "outputId": "b9da3853-6389-4498-d6c1-2642f9e66b05"
      },
      "source": [
        "# Change the name of the columns to bedrs, bathrs, price_sqr_meter\r\n",
        "print(\"Change the name of the columns to bedrs, bathrs, price_sqr_meter :\")\r\n",
        "housemkt =pd.concat([ser1, ser2, ser3], axis=1, keys=[\"bedrs\", \"bathrs\", \"price_sqr_meter\"])\r\n",
        "print(housemkt)\r\n",
        "\r\n",
        "# Create a one column DataFrame with the values of the 3 Series and assign it to 'bigcolumn'\r\n",
        "print(\"Create a one column DataFrame with the values of the 3 Series and assign it to 'bigcolumn' :\")\r\n",
        "\r\n",
        "\r\n",
        "\r\n",
        "bigcolumn=pd.concat([ser1, ser2, ser3], axis=0)\r\n",
        "bigcolumn.to_frame()\r\n",
        "print(bigcolumn)\r\n",
        "print(type(bigcolumn))\r\n",
        "print(len(bigcolumn))\r\n",
        "\r\n",
        "new_index = []\r\n",
        "for i in range(100):\r\n",
        "\tnew_index.append(i)\r\n",
        "\r\n",
        "print(new_index)\r\n",
        "\r\n",
        "bigcolumn.reset_index(drop=True, inplace=True)\r\n",
        "print(bigcolumn)"
      ],
      "execution_count": 2,
      "outputs": [
        {
          "output_type": "stream",
          "text": [
            "Change the name of the columns to bedrs, bathrs, price_sqr_meter :\n",
            "    bedrs  bathrs  price_sqr_meter\n",
            "0       4       3            20003\n",
            "1       2       3            23516\n",
            "2       3       1            12092\n",
            "3       1       3            28891\n",
            "4       1       1            22479\n",
            "..    ...     ...              ...\n",
            "95      2       1            26031\n",
            "96      4       3            28760\n",
            "97      2       3            15232\n",
            "98      2       2            29507\n",
            "99      4       3            19107\n",
            "\n",
            "[100 rows x 3 columns]\n",
            "Create a one column DataFrame with the values of the 3 Series and assign it to 'bigcolumn' :\n",
            "0         4\n",
            "1         2\n",
            "2         3\n",
            "3         1\n",
            "4         1\n",
            "      ...  \n",
            "95    26031\n",
            "96    28760\n",
            "97    15232\n",
            "98    29507\n",
            "99    19107\n",
            "Length: 300, dtype: int64\n",
            "<class 'pandas.core.series.Series'>\n",
            "300\n",
            "[0, 1, 2, 3, 4, 5, 6, 7, 8, 9, 10, 11, 12, 13, 14, 15, 16, 17, 18, 19, 20, 21, 22, 23, 24, 25, 26, 27, 28, 29, 30, 31, 32, 33, 34, 35, 36, 37, 38, 39, 40, 41, 42, 43, 44, 45, 46, 47, 48, 49, 50, 51, 52, 53, 54, 55, 56, 57, 58, 59, 60, 61, 62, 63, 64, 65, 66, 67, 68, 69, 70, 71, 72, 73, 74, 75, 76, 77, 78, 79, 80, 81, 82, 83, 84, 85, 86, 87, 88, 89, 90, 91, 92, 93, 94, 95, 96, 97, 98, 99]\n",
            "0          4\n",
            "1          2\n",
            "2          3\n",
            "3          1\n",
            "4          1\n",
            "       ...  \n",
            "295    26031\n",
            "296    28760\n",
            "297    15232\n",
            "298    29507\n",
            "299    19107\n",
            "Length: 300, dtype: int64\n"
          ],
          "name": "stdout"
        }
      ]
    }
  ]
}