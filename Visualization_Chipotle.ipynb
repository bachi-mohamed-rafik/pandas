{
  "nbformat": 4,
  "nbformat_minor": 0,
  "metadata": {
    "colab": {
      "name": "Visualization Chipotle.ipynb",
      "provenance": [],
      "collapsed_sections": [],
      "authorship_tag": "ABX9TyNobgn8COg0fEZo4crgA+uA",
      "include_colab_link": true
    },
    "kernelspec": {
      "name": "python3",
      "display_name": "Python 3"
    }
  },
  "cells": [
    {
      "cell_type": "markdown",
      "metadata": {
        "id": "view-in-github",
        "colab_type": "text"
      },
      "source": [
        "<a href=\"https://colab.research.google.com/github/bachi-mohamed-rafik/pandas/blob/main/Visualization_Chipotle.ipynb\" target=\"_parent\"><img src=\"https://colab.research.google.com/assets/colab-badge.svg\" alt=\"Open In Colab\"/></a>"
      ]
    },
    {
      "cell_type": "markdown",
      "metadata": {
        "id": "oS0CQx9y8ndF"
      },
      "source": [
        "#Visualization Chipotle"
      ]
    },
    {
      "cell_type": "code",
      "metadata": {
        "colab": {
          "base_uri": "https://localhost:8080/"
        },
        "id": "TlGUTKvX8ixr",
        "outputId": "e8fe65bd-9a5e-4677-c84d-65ef36979230"
      },
      "source": [
        "import pandas as pd\r\n",
        "import matplotlib.pyplot as plt\r\n",
        "from collections import Counter\r\n",
        "\r\n",
        "chipo=pd.read_csv(\"https://raw.githubusercontent.com/justmarkham/DAT8/master/data/chipotle.tsv\",sep='\\t')\r\n",
        "\r\n",
        "print(chipo)"
      ],
      "execution_count": 1,
      "outputs": [
        {
          "output_type": "stream",
          "text": [
            "      order_id  ...  item_price\n",
            "0            1  ...      $2.39 \n",
            "1            1  ...      $3.39 \n",
            "2            1  ...      $3.39 \n",
            "3            1  ...      $2.39 \n",
            "4            2  ...     $16.98 \n",
            "...        ...  ...         ...\n",
            "4617      1833  ...     $11.75 \n",
            "4618      1833  ...     $11.75 \n",
            "4619      1834  ...     $11.25 \n",
            "4620      1834  ...      $8.75 \n",
            "4621      1834  ...      $8.75 \n",
            "\n",
            "[4622 rows x 5 columns]\n"
          ],
          "name": "stdout"
        }
      ]
    },
    {
      "cell_type": "code",
      "metadata": {
        "colab": {
          "base_uri": "https://localhost:8080/"
        },
        "id": "L6EOirnG82m2",
        "outputId": "aee496fa-a173-4e70-c928-b560ed5917c7"
      },
      "source": [
        "# See the first 10 entries\r\n",
        "print(chipo.head(10))"
      ],
      "execution_count": 2,
      "outputs": [
        {
          "output_type": "stream",
          "text": [
            "   order_id  ...  item_price\n",
            "0         1  ...      $2.39 \n",
            "1         1  ...      $3.39 \n",
            "2         1  ...      $3.39 \n",
            "3         1  ...      $2.39 \n",
            "4         2  ...     $16.98 \n",
            "5         3  ...     $10.98 \n",
            "6         3  ...      $1.69 \n",
            "7         4  ...     $11.75 \n",
            "8         4  ...      $9.25 \n",
            "9         5  ...      $9.25 \n",
            "\n",
            "[10 rows x 5 columns]\n"
          ],
          "name": "stdout"
        }
      ]
    },
    {
      "cell_type": "code",
      "metadata": {
        "colab": {
          "base_uri": "https://localhost:8080/",
          "height": 484
        },
        "id": "8_NK0UpD88gd",
        "outputId": "e79aa71c-2fd1-4efd-820d-bc8e663e510b"
      },
      "source": [
        "# Create a histogram of the top 5 items bought\r\n",
        "x=chipo['item_name']\r\n",
        "t=x.value_counts().head()\r\n",
        "print(t)\r\n",
        "t.plot(kind='bar')"
      ],
      "execution_count": 3,
      "outputs": [
        {
          "output_type": "stream",
          "text": [
            "Chicken Bowl           726\n",
            "Chicken Burrito        553\n",
            "Chips and Guacamole    479\n",
            "Steak Burrito          368\n",
            "Canned Soft Drink      301\n",
            "Name: item_name, dtype: int64\n"
          ],
          "name": "stdout"
        },
        {
          "output_type": "execute_result",
          "data": {
            "text/plain": [
              "<matplotlib.axes._subplots.AxesSubplot at 0x7fddfd46b828>"
            ]
          },
          "metadata": {
            "tags": []
          },
          "execution_count": 3
        },
        {
          "output_type": "display_data",
          "data": {
            "image/png": "[encoded data removed]",
            "text/plain": [
              "<Figure size 432x288 with 1 Axes>"
            ]
          },
          "metadata": {
            "tags": [],
            "needs_background": "light"
          }
        }
      ]
    },
    {
      "cell_type": "code",
      "metadata": {
        "colab": {
          "base_uri": "https://localhost:8080/",
          "height": 295
        },
        "id": "sscRnazZ8_Zm",
        "outputId": "9c38b6ea-02dd-4025-cd52-5a6211872ecb"
      },
      "source": [
        "# Set the title and labels\r\n",
        "plt.xlabel('Items')\r\n",
        "plt.ylabel('Number of Times Ordered')\r\n",
        "plt.title('Most ordered Chipotle\\'s Items')\r\n",
        "\r\n",
        "# show the plot\r\n",
        "plt.show()"
      ],
      "execution_count": 4,
      "outputs": [
        {
          "output_type": "display_data",
          "data": {
            "image/png": "[encoded data removed]",
            "text/plain": [
              "<Figure size 432x288 with 1 Axes>"
            ]
          },
          "metadata": {
            "tags": [],
            "needs_background": "light"
          }
        }
      ]
    }
  ]
}