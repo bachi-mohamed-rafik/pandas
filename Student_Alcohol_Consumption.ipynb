{
  "nbformat": 4,
  "nbformat_minor": 0,
  "metadata": {
    "colab": {
      "name": "Student Alcohol Consumption.ipynb",
      "provenance": [],
      "collapsed_sections": [],
      "authorship_tag": "ABX9TyOJO8hp5PNdRMSubpiFb6lH",
      "include_colab_link": true
    },
    "kernelspec": {
      "name": "python3",
      "display_name": "Python 3"
    }
  },
  "cells": [
    {
      "cell_type": "markdown",
      "metadata": {
        "id": "view-in-github",
        "colab_type": "text"
      },
      "source": [
        "<a href=\"https://colab.research.google.com/github/bachi-mohamed-rafik/pandas/blob/main/Student_Alcohol_Consumption.ipynb\" target=\"_parent\"><img src=\"https://colab.research.google.com/assets/colab-badge.svg\" alt=\"Open In Colab\"/></a>"
      ]
    },
    {
      "cell_type": "markdown",
      "metadata": {
        "id": "C_9ztXo8v24y"
      },
      "source": [
        "#Student Alcohol Consumption"
      ]
    },
    {
      "cell_type": "code",
      "metadata": {
        "colab": {
          "base_uri": "https://localhost:8080/"
        },
        "id": "HlHCLSSvv19j",
        "outputId": "84535eec-dfae-4eb1-ac88-0ec756020374"
      },
      "source": [
        "import pandas as pd\r\n",
        "import numpy as np\r\n",
        "url=\"https://raw.githubusercontent.com/guipsamora/pandas_exercises/master/04_Apply/Students_Alcohol_Consumption/student-mat.csv\"\r\n",
        "df=pd.read_csv(url,sep=',')\r\n",
        "print(df)"
      ],
      "execution_count": 1,
      "outputs": [
        {
          "output_type": "stream",
          "text": [
            "    school sex  age address famsize Pstatus  ...  Walc  health absences  G1  G2  G3\n",
            "0       GP   F   18       U     GT3       A  ...     1       3        6   5   6   6\n",
            "1       GP   F   17       U     GT3       T  ...     1       3        4   5   5   6\n",
            "2       GP   F   15       U     LE3       T  ...     3       3       10   7   8  10\n",
            "3       GP   F   15       U     GT3       T  ...     1       5        2  15  14  15\n",
            "4       GP   F   16       U     GT3       T  ...     2       5        4   6  10  10\n",
            "..     ...  ..  ...     ...     ...     ...  ...   ...     ...      ...  ..  ..  ..\n",
            "390     MS   M   20       U     LE3       A  ...     5       4       11   9   9   9\n",
            "391     MS   M   17       U     LE3       T  ...     4       2        3  14  16  16\n",
            "392     MS   M   21       R     GT3       T  ...     3       3        3  10   8   7\n",
            "393     MS   M   18       R     LE3       T  ...     4       5        0  11  12  10\n",
            "394     MS   M   19       U     LE3       T  ...     3       5        5   8   9   9\n",
            "\n",
            "[395 rows x 33 columns]\n"
          ],
          "name": "stdout"
        }
      ]
    },
    {
      "cell_type": "code",
      "metadata": {
        "colab": {
          "base_uri": "https://localhost:8080/"
        },
        "id": "WlS8lqUfwpyP",
        "outputId": "dc0b0eff-751c-4e4c-e864-7df43a22486c"
      },
      "source": [
        "# For the purpose of this exercise slice the dataframe from 'school' until the 'guardian' column\r\n",
        "print(\"For the purpose of this exercise slice the dataframe from 'school' until the 'guardian' column:\")\r\n",
        "z=df.loc[:,\"school\":\"guardian\"]\r\n",
        "print(z)\r\n",
        "\r\n",
        "# Create a lambda function that will capitalize strings\r\n",
        "print(\"Create a lambda function that will capitalize strings:\")\r\n",
        "cap= lambda x: x.capitalize()"
      ],
      "execution_count": 2,
      "outputs": [
        {
          "output_type": "stream",
          "text": [
            "For the purpose of this exercise slice the dataframe from 'school' until the 'guardian' column:\n",
            "    school sex  age address famsize  ... Fedu      Mjob      Fjob  reason guardian\n",
            "0       GP   F   18       U     GT3  ...    4   at_home   teacher  course   mother\n",
            "1       GP   F   17       U     GT3  ...    1   at_home     other  course   father\n",
            "2       GP   F   15       U     LE3  ...    1   at_home     other   other   mother\n",
            "3       GP   F   15       U     GT3  ...    2    health  services    home   mother\n",
            "4       GP   F   16       U     GT3  ...    3     other     other    home   father\n",
            "..     ...  ..  ...     ...     ...  ...  ...       ...       ...     ...      ...\n",
            "390     MS   M   20       U     LE3  ...    2  services  services  course    other\n",
            "391     MS   M   17       U     LE3  ...    1  services  services  course   mother\n",
            "392     MS   M   21       R     GT3  ...    1     other     other  course    other\n",
            "393     MS   M   18       R     LE3  ...    2  services     other  course   mother\n",
            "394     MS   M   19       U     LE3  ...    1     other   at_home  course   father\n",
            "\n",
            "[395 rows x 12 columns]\n",
            "Create a lambda function that will capitalize strings:\n"
          ],
          "name": "stdout"
        }
      ]
    },
    {
      "cell_type": "code",
      "metadata": {
        "colab": {
          "base_uri": "https://localhost:8080/"
        },
        "id": "T5v8iZ_mwxww",
        "outputId": "49c5db1a-25e4-4e9c-dcf9-2839103d6b76"
      },
      "source": [
        "# Capitalize both Mjob and Fjob\r\n",
        "print(\"Step 6. Capitalize both Mjob and Fjob :\")\r\n",
        "capitalizer = lambda x: x.capitalize()\r\n",
        "\r\n",
        "print( z['Mjob'].apply(cap))\r\n",
        "print (z['Fjob'].apply(cap))\r\n",
        "\r\n",
        "# Print the last elements of the data set.\r\n",
        "print(\"Print the last elements of the data set :\")\r\n",
        "print( df.iloc[-1])"
      ],
      "execution_count": 3,
      "outputs": [
        {
          "output_type": "stream",
          "text": [
            "Step 6. Capitalize both Mjob and Fjob :\n",
            "0       At_home\n",
            "1       At_home\n",
            "2       At_home\n",
            "3        Health\n",
            "4         Other\n",
            "         ...   \n",
            "390    Services\n",
            "391    Services\n",
            "392       Other\n",
            "393    Services\n",
            "394       Other\n",
            "Name: Mjob, Length: 395, dtype: object\n",
            "0       Teacher\n",
            "1         Other\n",
            "2         Other\n",
            "3      Services\n",
            "4         Other\n",
            "         ...   \n",
            "390    Services\n",
            "391    Services\n",
            "392       Other\n",
            "393       Other\n",
            "394     At_home\n",
            "Name: Fjob, Length: 395, dtype: object\n",
            "Print the last elements of the data set :\n",
            "school             MS\n",
            "sex                 M\n",
            "age                19\n",
            "address             U\n",
            "famsize           LE3\n",
            "Pstatus             T\n",
            "Medu                1\n",
            "Fedu                1\n",
            "Mjob            other\n",
            "Fjob          at_home\n",
            "reason         course\n",
            "guardian       father\n",
            "traveltime          1\n",
            "studytime           1\n",
            "failures            0\n",
            "schoolsup          no\n",
            "famsup             no\n",
            "paid               no\n",
            "activities         no\n",
            "nursery           yes\n",
            "higher            yes\n",
            "internet          yes\n",
            "romantic           no\n",
            "famrel              3\n",
            "freetime            2\n",
            "goout               3\n",
            "Dalc                3\n",
            "Walc                3\n",
            "health              5\n",
            "absences            5\n",
            "G1                  8\n",
            "G2                  9\n",
            "G3                  9\n",
            "Name: 394, dtype: object\n"
          ],
          "name": "stdout"
        }
      ]
    },
    {
      "cell_type": "code",
      "metadata": {
        "colab": {
          "base_uri": "https://localhost:8080/"
        },
        "id": "CnsTtRrFw1Io",
        "outputId": "5ee22ce8-c198-4ca9-df77-3c54041409a0"
      },
      "source": [
        "# Did you notice the original dataframe is still lowercase? Why is that? Fix it and capitalize Mjob and Fjob.\r\n",
        "print(\"Did you notice the original dataframe is still lowercase? Why is that? Fix it and capitalize Mjob and Fjob:\")\r\n",
        "df['Mjob']=df['Mjob'].apply(cap)\r\n",
        "df['Fjob']=df['Fjob'].apply(cap)\r\n",
        "print(df)\r\n",
        "print(df['Mjob'])\r\n",
        "print(df['Fjob'])\r\n",
        "\r\n",
        "# Create a function called majority that returns a boolean value to a new column called legal_drinker (Consider majority as older than 17 years old)\r\n",
        "print(\"reate a function called majority that returns a boolean value to a new column called legal_drinker (Consider majority as older than 17 years old) :\")\r\n",
        "def majority(x):\r\n",
        "\tif(x>17):\r\n",
        "\t\treturn True\r\n",
        "\telse:\r\n",
        "\t\treturn False\r\n",
        "\r\n",
        "df['legal_drinker']=df['age'].apply(majority)\r\n",
        "print( df)"
      ],
      "execution_count": 4,
      "outputs": [
        {
          "output_type": "stream",
          "text": [
            "Did you notice the original dataframe is still lowercase? Why is that? Fix it and capitalize Mjob and Fjob:\n",
            "    school sex  age address famsize Pstatus  ...  Walc  health absences  G1  G2  G3\n",
            "0       GP   F   18       U     GT3       A  ...     1       3        6   5   6   6\n",
            "1       GP   F   17       U     GT3       T  ...     1       3        4   5   5   6\n",
            "2       GP   F   15       U     LE3       T  ...     3       3       10   7   8  10\n",
            "3       GP   F   15       U     GT3       T  ...     1       5        2  15  14  15\n",
            "4       GP   F   16       U     GT3       T  ...     2       5        4   6  10  10\n",
            "..     ...  ..  ...     ...     ...     ...  ...   ...     ...      ...  ..  ..  ..\n",
            "390     MS   M   20       U     LE3       A  ...     5       4       11   9   9   9\n",
            "391     MS   M   17       U     LE3       T  ...     4       2        3  14  16  16\n",
            "392     MS   M   21       R     GT3       T  ...     3       3        3  10   8   7\n",
            "393     MS   M   18       R     LE3       T  ...     4       5        0  11  12  10\n",
            "394     MS   M   19       U     LE3       T  ...     3       5        5   8   9   9\n",
            "\n",
            "[395 rows x 33 columns]\n",
            "0       At_home\n",
            "1       At_home\n",
            "2       At_home\n",
            "3        Health\n",
            "4         Other\n",
            "         ...   \n",
            "390    Services\n",
            "391    Services\n",
            "392       Other\n",
            "393    Services\n",
            "394       Other\n",
            "Name: Mjob, Length: 395, dtype: object\n",
            "0       Teacher\n",
            "1         Other\n",
            "2         Other\n",
            "3      Services\n",
            "4         Other\n",
            "         ...   \n",
            "390    Services\n",
            "391    Services\n",
            "392       Other\n",
            "393       Other\n",
            "394     At_home\n",
            "Name: Fjob, Length: 395, dtype: object\n",
            "reate a function called majority that returns a boolean value to a new column called legal_drinker (Consider majority as older than 17 years old) :\n",
            "    school sex  age address famsize  ... absences  G1  G2  G3 legal_drinker\n",
            "0       GP   F   18       U     GT3  ...        6   5   6   6          True\n",
            "1       GP   F   17       U     GT3  ...        4   5   5   6         False\n",
            "2       GP   F   15       U     LE3  ...       10   7   8  10         False\n",
            "3       GP   F   15       U     GT3  ...        2  15  14  15         False\n",
            "4       GP   F   16       U     GT3  ...        4   6  10  10         False\n",
            "..     ...  ..  ...     ...     ...  ...      ...  ..  ..  ..           ...\n",
            "390     MS   M   20       U     LE3  ...       11   9   9   9          True\n",
            "391     MS   M   17       U     LE3  ...        3  14  16  16         False\n",
            "392     MS   M   21       R     GT3  ...        3  10   8   7          True\n",
            "393     MS   M   18       R     LE3  ...        0  11  12  10          True\n",
            "394     MS   M   19       U     LE3  ...        5   8   9   9          True\n",
            "\n",
            "[395 rows x 34 columns]\n"
          ],
          "name": "stdout"
        }
      ]
    },
    {
      "cell_type": "code",
      "metadata": {
        "colab": {
          "base_uri": "https://localhost:8080/"
        },
        "id": "paF4OKSuw49h",
        "outputId": "59fbb1e9-95d3-433f-a917-60b120a651ad"
      },
      "source": [
        "# Multiply every number of the dataset by 10.\t\t\r\n",
        "print(\"Multiply every number of the dataset by 10:\")\r\n",
        "def times10(x):\r\n",
        "\tif type(x) is int :\r\n",
        "\t\treturn x*10\r\n",
        "\treturn x\t\r\n",
        "\r\n",
        "print(df.applymap(times10).head(10))"
      ],
      "execution_count": 5,
      "outputs": [
        {
          "output_type": "stream",
          "text": [
            "Multiply every number of the dataset by 10:\n",
            "  school sex  age address famsize  ... absences   G1   G2   G3 legal_drinker\n",
            "0     GP   F  180       U     GT3  ...       60   50   60   60          True\n",
            "1     GP   F  170       U     GT3  ...       40   50   50   60         False\n",
            "2     GP   F  150       U     LE3  ...      100   70   80  100         False\n",
            "3     GP   F  150       U     GT3  ...       20  150  140  150         False\n",
            "4     GP   F  160       U     GT3  ...       40   60  100  100         False\n",
            "5     GP   M  160       U     LE3  ...      100  150  150  150         False\n",
            "6     GP   M  160       U     LE3  ...        0  120  120  110         False\n",
            "7     GP   F  170       U     GT3  ...       60   60   50   60         False\n",
            "8     GP   M  150       U     LE3  ...        0  160  180  190         False\n",
            "9     GP   M  150       U     GT3  ...        0  140  150  150         False\n",
            "\n",
            "[10 rows x 34 columns]\n"
          ],
          "name": "stdout"
        }
      ]
    }
  ]
}