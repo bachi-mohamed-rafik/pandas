{
  "nbformat": 4,
  "nbformat_minor": 0,
  "metadata": {
    "colab": {
      "name": "Iris.ipynb",
      "provenance": [],
      "collapsed_sections": [],
      "authorship_tag": "ABX9TyNdhuFEQpyiSjNGcQP85NeW",
      "include_colab_link": true
    },
    "kernelspec": {
      "name": "python3",
      "display_name": "Python 3"
    }
  },
  "cells": [
    {
      "cell_type": "markdown",
      "metadata": {
        "id": "view-in-github",
        "colab_type": "text"
      },
      "source": [
        "<a href=\"https://colab.research.google.com/github/bachi-mohamed-rafik/pandas/blob/main/Iris.ipynb\" target=\"_parent\"><img src=\"https://colab.research.google.com/assets/colab-badge.svg\" alt=\"Open In Colab\"/></a>"
      ]
    },
    {
      "cell_type": "markdown",
      "metadata": {
        "id": "N1MrsXuiWZ7l"
      },
      "source": [
        "#Iris"
      ]
    },
    {
      "cell_type": "code",
      "metadata": {
        "colab": {
          "base_uri": "https://localhost:8080/"
        },
        "id": "0WHTNe1mWY63",
        "outputId": "7d65194a-4081-4581-e47c-03e0aa5a6d0a"
      },
      "source": [
        "import pandas as pd\r\n",
        "import numpy as np\r\n",
        "\r\n",
        "url = 'https://archive.ics.uci.edu/ml/machine-learning-databases/iris/iris.data'\r\n",
        "iris = pd.read_csv(url)\r\n",
        "\r\n",
        "print(iris.head())\r\n",
        "print(iris.shape)"
      ],
      "execution_count": 1,
      "outputs": [
        {
          "output_type": "stream",
          "text": [
            "   5.1  3.5  1.4  0.2  Iris-setosa\n",
            "0  4.9  3.0  1.4  0.2  Iris-setosa\n",
            "1  4.7  3.2  1.3  0.2  Iris-setosa\n",
            "2  4.6  3.1  1.5  0.2  Iris-setosa\n",
            "3  5.0  3.6  1.4  0.2  Iris-setosa\n",
            "4  5.4  3.9  1.7  0.4  Iris-setosa\n",
            "(149, 5)\n"
          ],
          "name": "stdout"
        }
      ]
    },
    {
      "cell_type": "code",
      "metadata": {
        "colab": {
          "base_uri": "https://localhost:8080/"
        },
        "id": "jvTEB8pqWpJS",
        "outputId": "17b2709d-776f-431b-d0fa-60dcbd84331b"
      },
      "source": [
        "# Create columns for the dataset¶\r\n",
        "print(\"Create columns for the dataset:\")\r\n",
        "iris.columns=['sepal_length','sepal_width','petal_length','petal_width','class']\r\n",
        "print(iris.columns)"
      ],
      "execution_count": 2,
      "outputs": [
        {
          "output_type": "stream",
          "text": [
            "Create columns for the dataset:\n",
            "Index(['sepal_length', 'sepal_width', 'petal_length', 'petal_width', 'class'], dtype='object')\n"
          ],
          "name": "stdout"
        }
      ]
    },
    {
      "cell_type": "code",
      "metadata": {
        "colab": {
          "base_uri": "https://localhost:8080/"
        },
        "id": "4dcSImKcWqM9",
        "outputId": "d6b5de3b-4458-4a1f-fcf5-dc06dcad62df"
      },
      "source": [
        "# Is there any missing value in the dataframe:\r\n",
        "print(\"Is there any missing value in the dataframe:\")\r\n",
        "print(pd.isnull(iris).sum())"
      ],
      "execution_count": 3,
      "outputs": [
        {
          "output_type": "stream",
          "text": [
            "Is there any missing value in the dataframe:\n",
            "sepal_length    0\n",
            "sepal_width     0\n",
            "petal_length    0\n",
            "petal_width     0\n",
            "class           0\n",
            "dtype: int64\n"
          ],
          "name": "stdout"
        }
      ]
    },
    {
      "cell_type": "code",
      "metadata": {
        "colab": {
          "base_uri": "https://localhost:8080/"
        },
        "id": "t87nFIu4Ws2M",
        "outputId": "3ed3bc07-1339-411f-b3f6-0023df5b9f33"
      },
      "source": [
        "# Lets set the values of the rows 10 to 29 of the column 'petal_length' to NaN\r\n",
        "print(\"Lets set the values of the rows 10 to 29 of the column 'petal_length' to NaN\")\r\n",
        "iris.iloc[10:30 , 2:3]=np.nan\r\n",
        "print(iris.head(50))"
      ],
      "execution_count": 4,
      "outputs": [
        {
          "output_type": "stream",
          "text": [
            "Lets set the values of the rows 10 to 29 of the column 'petal_length' to NaN\n",
            "    sepal_length  sepal_width  petal_length  petal_width            class\n",
            "0            4.9          3.0           1.4          0.2      Iris-setosa\n",
            "1            4.7          3.2           1.3          0.2      Iris-setosa\n",
            "2            4.6          3.1           1.5          0.2      Iris-setosa\n",
            "3            5.0          3.6           1.4          0.2      Iris-setosa\n",
            "4            5.4          3.9           1.7          0.4      Iris-setosa\n",
            "5            4.6          3.4           1.4          0.3      Iris-setosa\n",
            "6            5.0          3.4           1.5          0.2      Iris-setosa\n",
            "7            4.4          2.9           1.4          0.2      Iris-setosa\n",
            "8            4.9          3.1           1.5          0.1      Iris-setosa\n",
            "9            5.4          3.7           1.5          0.2      Iris-setosa\n",
            "10           4.8          3.4           NaN          0.2      Iris-setosa\n",
            "11           4.8          3.0           NaN          0.1      Iris-setosa\n",
            "12           4.3          3.0           NaN          0.1      Iris-setosa\n",
            "13           5.8          4.0           NaN          0.2      Iris-setosa\n",
            "14           5.7          4.4           NaN          0.4      Iris-setosa\n",
            "15           5.4          3.9           NaN          0.4      Iris-setosa\n",
            "16           5.1          3.5           NaN          0.3      Iris-setosa\n",
            "17           5.7          3.8           NaN          0.3      Iris-setosa\n",
            "18           5.1          3.8           NaN          0.3      Iris-setosa\n",
            "19           5.4          3.4           NaN          0.2      Iris-setosa\n",
            "20           5.1          3.7           NaN          0.4      Iris-setosa\n",
            "21           4.6          3.6           NaN          0.2      Iris-setosa\n",
            "22           5.1          3.3           NaN          0.5      Iris-setosa\n",
            "23           4.8          3.4           NaN          0.2      Iris-setosa\n",
            "24           5.0          3.0           NaN          0.2      Iris-setosa\n",
            "25           5.0          3.4           NaN          0.4      Iris-setosa\n",
            "26           5.2          3.5           NaN          0.2      Iris-setosa\n",
            "27           5.2          3.4           NaN          0.2      Iris-setosa\n",
            "28           4.7          3.2           NaN          0.2      Iris-setosa\n",
            "29           4.8          3.1           NaN          0.2      Iris-setosa\n",
            "30           5.4          3.4           1.5          0.4      Iris-setosa\n",
            "31           5.2          4.1           1.5          0.1      Iris-setosa\n",
            "32           5.5          4.2           1.4          0.2      Iris-setosa\n",
            "33           4.9          3.1           1.5          0.1      Iris-setosa\n",
            "34           5.0          3.2           1.2          0.2      Iris-setosa\n",
            "35           5.5          3.5           1.3          0.2      Iris-setosa\n",
            "36           4.9          3.1           1.5          0.1      Iris-setosa\n",
            "37           4.4          3.0           1.3          0.2      Iris-setosa\n",
            "38           5.1          3.4           1.5          0.2      Iris-setosa\n",
            "39           5.0          3.5           1.3          0.3      Iris-setosa\n",
            "40           4.5          2.3           1.3          0.3      Iris-setosa\n",
            "41           4.4          3.2           1.3          0.2      Iris-setosa\n",
            "42           5.0          3.5           1.6          0.6      Iris-setosa\n",
            "43           5.1          3.8           1.9          0.4      Iris-setosa\n",
            "44           4.8          3.0           1.4          0.3      Iris-setosa\n",
            "45           5.1          3.8           1.6          0.2      Iris-setosa\n",
            "46           4.6          3.2           1.4          0.2      Iris-setosa\n",
            "47           5.3          3.7           1.5          0.2      Iris-setosa\n",
            "48           5.0          3.3           1.4          0.2      Iris-setosa\n",
            "49           7.0          3.2           4.7          1.4  Iris-versicolor\n"
          ],
          "name": "stdout"
        }
      ]
    },
    {
      "cell_type": "code",
      "metadata": {
        "colab": {
          "base_uri": "https://localhost:8080/"
        },
        "id": "GCEH4b2yWuof",
        "outputId": "0a1daa14-bbbe-4b99-da11-505b697c192c"
      },
      "source": [
        "#substitute the NaN values to 1.0\r\n",
        "print(\"substitute the NaN values to 1.0:\")\r\n",
        "\r\n",
        "iris.fillna(0.1, inplace=True)\r\n",
        "print(iris.head(50))"
      ],
      "execution_count": 5,
      "outputs": [
        {
          "output_type": "stream",
          "text": [
            "substitute the NaN values to 1.0:\n",
            "    sepal_length  sepal_width  petal_length  petal_width            class\n",
            "0            4.9          3.0           1.4          0.2      Iris-setosa\n",
            "1            4.7          3.2           1.3          0.2      Iris-setosa\n",
            "2            4.6          3.1           1.5          0.2      Iris-setosa\n",
            "3            5.0          3.6           1.4          0.2      Iris-setosa\n",
            "4            5.4          3.9           1.7          0.4      Iris-setosa\n",
            "5            4.6          3.4           1.4          0.3      Iris-setosa\n",
            "6            5.0          3.4           1.5          0.2      Iris-setosa\n",
            "7            4.4          2.9           1.4          0.2      Iris-setosa\n",
            "8            4.9          3.1           1.5          0.1      Iris-setosa\n",
            "9            5.4          3.7           1.5          0.2      Iris-setosa\n",
            "10           4.8          3.4           0.1          0.2      Iris-setosa\n",
            "11           4.8          3.0           0.1          0.1      Iris-setosa\n",
            "12           4.3          3.0           0.1          0.1      Iris-setosa\n",
            "13           5.8          4.0           0.1          0.2      Iris-setosa\n",
            "14           5.7          4.4           0.1          0.4      Iris-setosa\n",
            "15           5.4          3.9           0.1          0.4      Iris-setosa\n",
            "16           5.1          3.5           0.1          0.3      Iris-setosa\n",
            "17           5.7          3.8           0.1          0.3      Iris-setosa\n",
            "18           5.1          3.8           0.1          0.3      Iris-setosa\n",
            "19           5.4          3.4           0.1          0.2      Iris-setosa\n",
            "20           5.1          3.7           0.1          0.4      Iris-setosa\n",
            "21           4.6          3.6           0.1          0.2      Iris-setosa\n",
            "22           5.1          3.3           0.1          0.5      Iris-setosa\n",
            "23           4.8          3.4           0.1          0.2      Iris-setosa\n",
            "24           5.0          3.0           0.1          0.2      Iris-setosa\n",
            "25           5.0          3.4           0.1          0.4      Iris-setosa\n",
            "26           5.2          3.5           0.1          0.2      Iris-setosa\n",
            "27           5.2          3.4           0.1          0.2      Iris-setosa\n",
            "28           4.7          3.2           0.1          0.2      Iris-setosa\n",
            "29           4.8          3.1           0.1          0.2      Iris-setosa\n",
            "30           5.4          3.4           1.5          0.4      Iris-setosa\n",
            "31           5.2          4.1           1.5          0.1      Iris-setosa\n",
            "32           5.5          4.2           1.4          0.2      Iris-setosa\n",
            "33           4.9          3.1           1.5          0.1      Iris-setosa\n",
            "34           5.0          3.2           1.2          0.2      Iris-setosa\n",
            "35           5.5          3.5           1.3          0.2      Iris-setosa\n",
            "36           4.9          3.1           1.5          0.1      Iris-setosa\n",
            "37           4.4          3.0           1.3          0.2      Iris-setosa\n",
            "38           5.1          3.4           1.5          0.2      Iris-setosa\n",
            "39           5.0          3.5           1.3          0.3      Iris-setosa\n",
            "40           4.5          2.3           1.3          0.3      Iris-setosa\n",
            "41           4.4          3.2           1.3          0.2      Iris-setosa\n",
            "42           5.0          3.5           1.6          0.6      Iris-setosa\n",
            "43           5.1          3.8           1.9          0.4      Iris-setosa\n",
            "44           4.8          3.0           1.4          0.3      Iris-setosa\n",
            "45           5.1          3.8           1.6          0.2      Iris-setosa\n",
            "46           4.6          3.2           1.4          0.2      Iris-setosa\n",
            "47           5.3          3.7           1.5          0.2      Iris-setosa\n",
            "48           5.0          3.3           1.4          0.2      Iris-setosa\n",
            "49           7.0          3.2           4.7          1.4  Iris-versicolor\n"
          ],
          "name": "stdout"
        }
      ]
    },
    {
      "cell_type": "code",
      "metadata": {
        "colab": {
          "base_uri": "https://localhost:8080/"
        },
        "id": "Bof9TwuCW0Ho",
        "outputId": "067b0f9f-f074-4027-a4b0-64665e870354"
      },
      "source": [
        "# Now let's delete the column class\r\n",
        "print(\"Delete the column class :\")\r\n",
        "\r\n",
        "del iris['class']\r\n",
        "print(iris.columns)"
      ],
      "execution_count": 6,
      "outputs": [
        {
          "output_type": "stream",
          "text": [
            "Delete the column class :\n",
            "Index(['sepal_length', 'sepal_width', 'petal_length', 'petal_width'], dtype='object')\n"
          ],
          "name": "stdout"
        }
      ]
    },
    {
      "cell_type": "code",
      "metadata": {
        "colab": {
          "base_uri": "https://localhost:8080/"
        },
        "id": "G2aOInm3W1UG",
        "outputId": "37c96a50-e758-4ef0-b94a-4eeeb7948bea"
      },
      "source": [
        "# Set the first 3 rows as NaN\r\n",
        "print(\"Set the first 3 rows as NaN:\")\r\n",
        "iris.iloc[0:3,:]=np.nan\r\n",
        "print(iris.head())"
      ],
      "execution_count": 7,
      "outputs": [
        {
          "output_type": "stream",
          "text": [
            "Set the first 3 rows as NaN:\n",
            "   sepal_length  sepal_width  petal_length  petal_width\n",
            "0           NaN          NaN           NaN          NaN\n",
            "1           NaN          NaN           NaN          NaN\n",
            "2           NaN          NaN           NaN          NaN\n",
            "3           5.0          3.6           1.4          0.2\n",
            "4           5.4          3.9           1.7          0.4\n"
          ],
          "name": "stdout"
        }
      ]
    },
    {
      "cell_type": "code",
      "metadata": {
        "colab": {
          "base_uri": "https://localhost:8080/"
        },
        "id": "dtvd6UHFW408",
        "outputId": "d110d248-d8e7-4aae-89d2-02b886343b74"
      },
      "source": [
        "# Delete the rows that have NaN\r\n",
        "print(\"Delete the rows that have NaN:\")\r\n",
        "iris=iris.dropna()\r\n",
        "print(iris.head())"
      ],
      "execution_count": 8,
      "outputs": [
        {
          "output_type": "stream",
          "text": [
            "Delete the rows that have NaN:\n",
            "   sepal_length  sepal_width  petal_length  petal_width\n",
            "3           5.0          3.6           1.4          0.2\n",
            "4           5.4          3.9           1.7          0.4\n",
            "5           4.6          3.4           1.4          0.3\n",
            "6           5.0          3.4           1.5          0.2\n",
            "7           4.4          2.9           1.4          0.2\n"
          ],
          "name": "stdout"
        }
      ]
    },
    {
      "cell_type": "code",
      "metadata": {
        "colab": {
          "base_uri": "https://localhost:8080/"
        },
        "id": "8nZv4LxlW8an",
        "outputId": "3a70e110-24f5-4844-db85-ad5950c5cb34"
      },
      "source": [
        "# Reset the index so it begins with 0 again\r\n",
        "print(\"Reset the index so it begins with 0 again:\")\r\n",
        "iris=iris.reset_index(0)\r\n",
        "print(iris)"
      ],
      "execution_count": 9,
      "outputs": [
        {
          "output_type": "stream",
          "text": [
            "Reset the index so it begins with 0 again:\n",
            "     index  sepal_length  sepal_width  petal_length  petal_width\n",
            "0        3           5.0          3.6           1.4          0.2\n",
            "1        4           5.4          3.9           1.7          0.4\n",
            "2        5           4.6          3.4           1.4          0.3\n",
            "3        6           5.0          3.4           1.5          0.2\n",
            "4        7           4.4          2.9           1.4          0.2\n",
            "..     ...           ...          ...           ...          ...\n",
            "141    144           6.7          3.0           5.2          2.3\n",
            "142    145           6.3          2.5           5.0          1.9\n",
            "143    146           6.5          3.0           5.2          2.0\n",
            "144    147           6.2          3.4           5.4          2.3\n",
            "145    148           5.9          3.0           5.1          1.8\n",
            "\n",
            "[146 rows x 5 columns]\n"
          ],
          "name": "stdout"
        }
      ]
    }
  ]
}