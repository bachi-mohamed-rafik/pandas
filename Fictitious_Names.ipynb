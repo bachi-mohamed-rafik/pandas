{
  "nbformat": 4,
  "nbformat_minor": 0,
  "metadata": {
    "colab": {
      "name": "Fictitious Names.ipynb",
      "provenance": [],
      "collapsed_sections": [],
      "authorship_tag": "ABX9TyOFIcABWZedUa+6vmfgrbOq",
      "include_colab_link": true
    },
    "kernelspec": {
      "name": "python3",
      "display_name": "Python 3"
    }
  },
  "cells": [
    {
      "cell_type": "markdown",
      "metadata": {
        "id": "view-in-github",
        "colab_type": "text"
      },
      "source": [
        "<a href=\"https://colab.research.google.com/github/bachi-mohamed-rafik/pandas/blob/main/Fictitious_Names.ipynb\" target=\"_parent\"><img src=\"https://colab.research.google.com/assets/colab-badge.svg\" alt=\"Open In Colab\"/></a>"
      ]
    },
    {
      "cell_type": "markdown",
      "metadata": {
        "id": "2Wi5v24t0TSn"
      },
      "source": [
        "#Fictitious Names"
      ]
    },
    {
      "cell_type": "code",
      "metadata": {
        "colab": {
          "base_uri": "https://localhost:8080/"
        },
        "id": "r7VwnhS9zrcm",
        "outputId": "3a9035a2-5e76-4aa4-9af2-ac1b660f2c9d"
      },
      "source": [
        "import pandas as pd\r\n",
        "\r\n",
        "raw_data_1 = {\r\n",
        "        'subject_id': ['1', '2', '3', '4', '5'],\r\n",
        "        'first_name': ['Alex', 'Amy', 'Allen', 'Alice', 'Ayoung'], \r\n",
        "        'last_name': ['Anderson', 'Ackerman', 'Ali', 'Aoni', 'Atiches']}\r\n",
        "\r\n",
        "raw_data_2 = {\r\n",
        "        'subject_id': ['4', '5', '6', '7', '8'],\r\n",
        "        'first_name': ['Billy', 'Brian', 'Bran', 'Bryce', 'Betty'], \r\n",
        "        'last_name': ['Bonder', 'Black', 'Balwner', 'Brice', 'Btisan']}\r\n",
        "\r\n",
        "raw_data_3 = {\r\n",
        "        'subject_id': ['1', '2', '3', '4', '5', '7', '8', '9', '10', '11'],\r\n",
        "        'test_id': [51, 15, 15, 61, 16, 14, 15, 1, 61, 16]}\r\n",
        "\r\n",
        "data1=pd.DataFrame(raw_data_1,columns=['subject_id','first_name','last_name'])\r\n",
        "data2=pd.DataFrame(raw_data_2,columns=['subject_id','first_name','last_name'])\r\n",
        "data3=pd.DataFrame(raw_data_3,columns=['subject_id','test_id'])\r\n",
        "\r\n",
        "all_data=data1.append(data2)\r\n",
        "print(all_data)"
      ],
      "execution_count": 1,
      "outputs": [
        {
          "output_type": "stream",
          "text": [
            "  subject_id first_name last_name\n",
            "0          1       Alex  Anderson\n",
            "1          2        Amy  Ackerman\n",
            "2          3      Allen       Ali\n",
            "3          4      Alice      Aoni\n",
            "4          5     Ayoung   Atiches\n",
            "0          4      Billy    Bonder\n",
            "1          5      Brian     Black\n",
            "2          6       Bran   Balwner\n",
            "3          7      Bryce     Brice\n",
            "4          8      Betty    Btisan\n"
          ],
          "name": "stdout"
        }
      ]
    },
    {
      "cell_type": "code",
      "metadata": {
        "colab": {
          "base_uri": "https://localhost:8080/"
        },
        "id": "_VISVkY30nYk",
        "outputId": "a05a7c13-36d9-4539-d557-a2242d6636df"
      },
      "source": [
        "# Join the two dataframes along columns and assing to all_data_col\r\n",
        "print(\"Join the two dataframes along columns and assing to all_data_col :\")\r\n",
        "all_data_col=pd.concat( [data1,data2], axis=1)\r\n",
        "print(all_data_col)"
      ],
      "execution_count": 2,
      "outputs": [
        {
          "output_type": "stream",
          "text": [
            "Join the two dataframes along columns and assing to all_data_col :\n",
            "  subject_id first_name last_name subject_id first_name last_name\n",
            "0          1       Alex  Anderson          4      Billy    Bonder\n",
            "1          2        Amy  Ackerman          5      Brian     Black\n",
            "2          3      Allen       Ali          6       Bran   Balwner\n",
            "3          4      Alice      Aoni          7      Bryce     Brice\n",
            "4          5     Ayoung   Atiches          8      Betty    Btisan\n"
          ],
          "name": "stdout"
        }
      ]
    },
    {
      "cell_type": "code",
      "metadata": {
        "colab": {
          "base_uri": "https://localhost:8080/"
        },
        "id": "mGcLX6Jg0rfz",
        "outputId": "3e2611ce-23d8-4bbb-8858-87d72f287999"
      },
      "source": [
        "# Merge all_data and data3 along the subject_id value\r\n",
        "print(\"Merge all_data and data3 along the subject_id value :\")\r\n",
        "b=pd.merge(all_data, data3, on='subject_id')\r\n",
        "print(b)"
      ],
      "execution_count": 3,
      "outputs": [
        {
          "output_type": "stream",
          "text": [
            "Merge all_data and data3 along the subject_id value :\n",
            "  subject_id first_name last_name  test_id\n",
            "0          1       Alex  Anderson       51\n",
            "1          2        Amy  Ackerman       15\n",
            "2          3      Allen       Ali       15\n",
            "3          4      Alice      Aoni       61\n",
            "4          4      Billy    Bonder       61\n",
            "5          5     Ayoung   Atiches       16\n",
            "6          5      Brian     Black       16\n",
            "7          7      Bryce     Brice       14\n",
            "8          8      Betty    Btisan       15\n"
          ],
          "name": "stdout"
        }
      ]
    },
    {
      "cell_type": "code",
      "metadata": {
        "colab": {
          "base_uri": "https://localhost:8080/"
        },
        "id": "_xZHLLGj0uUg",
        "outputId": "e2c072cb-f0d7-4a61-d739-fe6e71e1469b"
      },
      "source": [
        "# Merge only the data that has the same 'subject_id' on both data1 and data2\r\n",
        "print(\"Merge only the data that has the same 'subject_id' on both data1 and data2 :\")\r\n",
        "n=pd.merge(data1, data2, on='subject_id')\r\n",
        "print(n)"
      ],
      "execution_count": 4,
      "outputs": [
        {
          "output_type": "stream",
          "text": [
            "Merge only the data that has the same 'subject_id' on both data1 and data2 :\n",
            "  subject_id first_name_x last_name_x first_name_y last_name_y\n",
            "0          4        Alice        Aoni        Billy      Bonder\n",
            "1          5       Ayoung     Atiches        Brian       Black\n"
          ],
          "name": "stdout"
        }
      ]
    },
    {
      "cell_type": "code",
      "metadata": {
        "colab": {
          "base_uri": "https://localhost:8080/"
        },
        "id": "21pKZ_tX0w4y",
        "outputId": "a629cc0e-5be8-4c3b-8827-080b5c918490"
      },
      "source": [
        "# Merge all values in data1 and data2, with matching records from both sides where available.\r\n",
        "print(\"Merge all values in data1 and data2, with matching records from both sides where available:\")\r\n",
        "h=pd.merge(data1, data2, on='subject_id', how=\"outer\")\r\n",
        "print(h)"
      ],
      "execution_count": 5,
      "outputs": [
        {
          "output_type": "stream",
          "text": [
            "Merge all values in data1 and data2, with matching records from both sides where available:\n",
            "  subject_id first_name_x last_name_x first_name_y last_name_y\n",
            "0          1         Alex    Anderson          NaN         NaN\n",
            "1          2          Amy    Ackerman          NaN         NaN\n",
            "2          3        Allen         Ali          NaN         NaN\n",
            "3          4        Alice        Aoni        Billy      Bonder\n",
            "4          5       Ayoung     Atiches        Brian       Black\n",
            "5          6          NaN         NaN         Bran     Balwner\n",
            "6          7          NaN         NaN        Bryce       Brice\n",
            "7          8          NaN         NaN        Betty      Btisan\n"
          ],
          "name": "stdout"
        }
      ]
    }
  ]
}