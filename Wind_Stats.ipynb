{
  "nbformat": 4,
  "nbformat_minor": 0,
  "metadata": {
    "colab": {
      "name": "Wind Stats.ipynb",
      "provenance": [],
      "collapsed_sections": [],
      "authorship_tag": "ABX9TyOFTlRBBBAIDbdop8kAUs+I",
      "include_colab_link": true
    },
    "kernelspec": {
      "name": "python3",
      "display_name": "Python 3"
    }
  },
  "cells": [
    {
      "cell_type": "markdown",
      "metadata": {
        "id": "view-in-github",
        "colab_type": "text"
      },
      "source": [
        "<a href=\"https://colab.research.google.com/github/bachi-mohamed-rafik/pandas/blob/main/Wind_Stats.ipynb\" target=\"_parent\"><img src=\"https://colab.research.google.com/assets/colab-badge.svg\" alt=\"Open In Colab\"/></a>"
      ]
    },
    {
      "cell_type": "markdown",
      "metadata": {
        "id": "dVOPVdzA6lUH"
      },
      "source": [
        "#Wind stats"
      ]
    },
    {
      "cell_type": "code",
      "metadata": {
        "colab": {
          "base_uri": "https://localhost:8080/"
        },
        "id": "z_jyZl3X6Z_I",
        "outputId": "d50e7204-b17a-4b42-c084-a662ca99f6b3"
      },
      "source": [
        "import pandas as pd\r\n",
        "import datetime\r\n",
        "\r\n",
        "\r\n",
        "data_url = 'https://raw.githubusercontent.com/guipsamora/pandas_exercises/master/06_Stats/Wind_Stats/wind.data'\r\n",
        "data = pd.read_csv(data_url, sep = \"\\s+\", parse_dates = [[0,1,2]])\r\n",
        "print(data)"
      ],
      "execution_count": 1,
      "outputs": [
        {
          "output_type": "stream",
          "text": [
            "       Yr_Mo_Dy    RPT    VAL    ROS    KIL  ...    CLA    MUL    CLO    BEL    MAL\n",
            "0    2061-01-01  15.04  14.96  13.17   9.29  ...  10.25  10.83  12.58  18.50  15.04\n",
            "1    2061-01-02  14.71    NaN  10.83   6.50  ...  10.04   9.79   9.67  17.54  13.83\n",
            "2    2061-01-03  18.50  16.88  12.33  10.13  ...    NaN   8.50   7.67  12.75  12.71\n",
            "3    2061-01-04  10.58   6.63  11.75   4.58  ...   1.79   5.83   5.88   5.46  10.88\n",
            "4    2061-01-05  13.33  13.25  11.42   6.17  ...   6.54  10.92  10.34  12.92  11.83\n",
            "...         ...    ...    ...    ...    ...  ...    ...    ...    ...    ...    ...\n",
            "6569 1978-12-27  17.58  16.96  17.62   8.08  ...  15.59  14.04  14.00  17.21  40.08\n",
            "6570 1978-12-28  13.21   5.46  13.46   5.00  ...  16.25  15.25  18.05  21.79  41.46\n",
            "6571 1978-12-29  14.00  10.29  14.42   8.71  ...  12.46  14.50  16.42  18.88  29.58\n",
            "6572 1978-12-30  18.50  14.04  21.29   9.13  ...  12.87  12.46  12.12  14.67  28.79\n",
            "6573 1978-12-31  20.33  17.41  27.29   9.59  ...  11.63  11.58  11.38  12.08  22.08\n",
            "\n",
            "[6574 rows x 13 columns]\n"
          ],
          "name": "stdout"
        }
      ]
    },
    {
      "cell_type": "code",
      "metadata": {
        "colab": {
          "base_uri": "https://localhost:8080/"
        },
        "id": "twjDUViY6xDy",
        "outputId": "bda5ad74-18b5-428e-cc20-6f7646bbf2f8"
      },
      "source": [
        "# Year 2061? Do we really have data from this year? Create a function to fix it and apply it.\r\n",
        "print(\"Year 2061? Do we really have data from this year? Create a function to fix it and apply it :\")\r\n",
        "\r\n",
        "def fix(x):\r\n",
        "\tif(x.year>1989):\r\n",
        "\t\tyear=x.year-100\r\n",
        "\t\treturn(datetime.date(year, x.month, x.day))\r\n",
        "\telse:\r\n",
        "\t\tyear=x.year\r\n",
        "\t\treturn (datetime.date(year, x.month, x.day))\r\n",
        "\r\n",
        "print (data.iloc[0]['Yr_Mo_Dy'])\r\n",
        "\r\n",
        "data['Yr_Mo_Dy']=data['Yr_Mo_Dy'].apply(fix)\r\n",
        "print(data.head())"
      ],
      "execution_count": 2,
      "outputs": [
        {
          "output_type": "stream",
          "text": [
            "Year 2061? Do we really have data from this year? Create a function to fix it and apply it :\n",
            "2061-01-01 00:00:00\n",
            "     Yr_Mo_Dy    RPT    VAL    ROS    KIL  ...    CLA    MUL    CLO    BEL    MAL\n",
            "0  1961-01-01  15.04  14.96  13.17   9.29  ...  10.25  10.83  12.58  18.50  15.04\n",
            "1  1961-01-02  14.71    NaN  10.83   6.50  ...  10.04   9.79   9.67  17.54  13.83\n",
            "2  1961-01-03  18.50  16.88  12.33  10.13  ...    NaN   8.50   7.67  12.75  12.71\n",
            "3  1961-01-04  10.58   6.63  11.75   4.58  ...   1.79   5.83   5.88   5.46  10.88\n",
            "4  1961-01-05  13.33  13.25  11.42   6.17  ...   6.54  10.92  10.34  12.92  11.83\n",
            "\n",
            "[5 rows x 13 columns]\n"
          ],
          "name": "stdout"
        }
      ]
    },
    {
      "cell_type": "code",
      "metadata": {
        "colab": {
          "base_uri": "https://localhost:8080/"
        },
        "id": "QZuPRHgI77cT",
        "outputId": "37e54924-18c1-4563-8c00-23daca7654dc"
      },
      "source": [
        "# Set the right dates as the index. Pay attention at the data type, it should be datetime64[ns]\r\n",
        "print(\"Set the right dates as the index. Pay attention at the data type, it should be datetime64[ns] :\")\r\n",
        "\r\n",
        "data= data.set_index('Yr_Mo_Dy')\r\n",
        "\r\n",
        "# Compute how many values are missing for each location over the entire record.\r\n",
        "print(\"Compute how many values are missing for each location over the entire record :\")\r\n",
        "print (data.isna().sum())\r\n",
        "\r\n",
        "# Compute how many non-missing values there are in total.\r\n",
        "print(\"Compute how many non-missing values there are in total :\")\r\n",
        "print(data.size-data.isna().sum().sum())"
      ],
      "execution_count": 3,
      "outputs": [
        {
          "output_type": "stream",
          "text": [
            "Set the right dates as the index. Pay attention at the data type, it should be datetime64[ns] :\n",
            "Compute how many values are missing for each location over the entire record :\n",
            "RPT    6\n",
            "VAL    3\n",
            "ROS    2\n",
            "KIL    5\n",
            "SHA    2\n",
            "BIR    0\n",
            "DUB    3\n",
            "CLA    2\n",
            "MUL    3\n",
            "CLO    1\n",
            "BEL    0\n",
            "MAL    4\n",
            "dtype: int64\n",
            "Compute how many non-missing values there are in total :\n",
            "78857\n"
          ],
          "name": "stdout"
        }
      ]
    },
    {
      "cell_type": "code",
      "metadata": {
        "colab": {
          "base_uri": "https://localhost:8080/"
        },
        "id": "bhjdXD9l78yL",
        "outputId": "f2e1e387-2c8a-4456-ad51-c0e2ca286acf"
      },
      "source": [
        "# Calculate the mean windspeeds of the windspeeds over all the locations and all the times.\r\n",
        "print(\"Calculate the mean windspeeds of the windspeeds over all the locations and all the times :\")\r\n",
        "print(data.sum().sum()/data.notna().sum().sum())\r\n",
        "\r\n",
        "# Create a DataFrame called loc_stats and calculate the min, max and mean windspeeds and standard deviations of the windspeeds at each location over all the days\r\n",
        "print(data.describe())\r\n",
        "\r\n",
        "\r\n",
        "day_stats=pd.DataFrame()\r\n",
        "day_stats['min']=data.min()\r\n",
        "day_stats['max']=data.max()\r\n",
        "day_stats['mean']=data.mean()\r\n",
        "print(day_stats)"
      ],
      "execution_count": 5,
      "outputs": [
        {
          "output_type": "stream",
          "text": [
            "Calculate the mean windspeeds of the windspeeds over all the locations and all the times :\n",
            "10.227883764282167\n",
            "               RPT          VAL  ...          BEL          MAL\n",
            "count  6568.000000  6571.000000  ...  6574.000000  6570.000000\n",
            "mean     12.362987    10.644314  ...    13.121007    15.599079\n",
            "std       5.618413     5.267356  ...     5.835037     6.699794\n",
            "min       0.670000     0.210000  ...     0.130000     0.670000\n",
            "25%       8.120000     6.670000  ...     8.710000    10.710000\n",
            "50%      11.710000    10.170000  ...    12.500000    15.000000\n",
            "75%      15.920000    14.040000  ...    16.880000    19.830000\n",
            "max      35.800000    33.370000  ...    42.380000    42.540000\n",
            "\n",
            "[8 rows x 12 columns]\n",
            "      min    max       mean\n",
            "RPT  0.67  35.80  12.362987\n",
            "VAL  0.21  33.37  10.644314\n",
            "ROS  1.50  33.84  11.660526\n",
            "KIL  0.00  28.46   6.306468\n",
            "SHA  0.13  37.54  10.455834\n",
            "BIR  0.00  26.16   7.092254\n",
            "DUB  0.00  30.37   9.797343\n",
            "CLA  0.00  31.08   8.495053\n",
            "MUL  0.00  25.88   8.493590\n",
            "CLO  0.04  28.21   8.707332\n",
            "BEL  0.13  42.38  13.121007\n",
            "MAL  0.67  42.54  15.599079\n"
          ],
          "name": "stdout"
        }
      ]
    }
  ]
}